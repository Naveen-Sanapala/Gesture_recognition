{
  "cells": [
    {
      "cell_type": "code",
      "execution_count": null,
      "id": "4a8ed16c",
      "metadata": {
        "id": "4a8ed16c"
      },
      "outputs": [],
      "source": [
        "#import libraries\n",
        "import pandas as pd\n",
        "import numpy as np\n",
        "from pandas.plotting import scatter_matrix\n",
        "import matplotlib.pyplot as plt\n",
        "from sklearn import model_selection\n",
        "from sklearn.metrics import classification_report\n",
        "from sklearn.metrics import confusion_matrix\n",
        "from sklearn.tree import DecisionTreeClassifier\n",
        "from sklearn.neighbors import KNeighborsClassifier\n",
        "from sklearn.svm import SVC\n",
        "from sklearn.preprocessing import LabelBinarizer\n",
        "import seaborn as sns\n",
        "from sklearn.model_selection import train_test_split\n",
        "import warnings\n",
        "warnings.filterwarnings('ignore')"
      ]
    },
    {
      "cell_type": "code",
      "execution_count": null,
      "id": "595a89e7",
      "metadata": {
        "id": "595a89e7"
      },
      "outputs": [],
      "source": [
        "import keras\n",
        "from keras.models import Sequential\n",
        "from keras.layers import Dense,Flatten,Conv2D,MaxPool2D,Dropout\n",
        "from tensorflow.keras.preprocessing.image import ImageDataGenerator"
      ]
    },
    {
      "cell_type": "code",
      "execution_count": null,
      "id": "e3d7bb39",
      "metadata": {
        "colab": {
          "base_uri": "https://localhost:8080/",
          "height": 300
        },
        "id": "e3d7bb39",
        "outputId": "e16a9208-5592-4bee-be23-d3951fcae66f"
      },
      "outputs": [
        {
          "output_type": "execute_result",
          "data": {
            "text/plain": [
              "   label  pixel1  pixel2  pixel3  pixel4  pixel5  pixel6  pixel7  pixel8  \\\n",
              "0      3     107     118     127     134     139     143     146     150   \n",
              "1      6     155     157     156     156     156     157     156     158   \n",
              "2      2     187     188     188     187     187     186     187     188   \n",
              "3      2     211     211     212     212     211     210     211     210   \n",
              "4     13     164     167     170     172     176     179     180     184   \n",
              "\n",
              "   pixel9  ...  pixel775  pixel776  pixel777  pixel778  pixel779  pixel780  \\\n",
              "0     153  ...       207       207       207       207       206       206   \n",
              "1     158  ...        69       149       128        87        94       163   \n",
              "2     187  ...       202       201       200       199       198       199   \n",
              "3     210  ...       235       234       233       231       230       226   \n",
              "4     185  ...        92       105       105       108       133       163   \n",
              "\n",
              "   pixel781  pixel782  pixel783  pixel784  \n",
              "0       206       204       203       202  \n",
              "1       175       103       135       149  \n",
              "2       198       195       194       195  \n",
              "3       225       222       229       163  \n",
              "4       157       163       164       179  \n",
              "\n",
              "[5 rows x 785 columns]"
            ],
            "text/html": [
              "\n",
              "  <div id=\"df-51715846-105a-4bef-a130-35ea95a401a5\">\n",
              "    <div class=\"colab-df-container\">\n",
              "      <div>\n",
              "<style scoped>\n",
              "    .dataframe tbody tr th:only-of-type {\n",
              "        vertical-align: middle;\n",
              "    }\n",
              "\n",
              "    .dataframe tbody tr th {\n",
              "        vertical-align: top;\n",
              "    }\n",
              "\n",
              "    .dataframe thead th {\n",
              "        text-align: right;\n",
              "    }\n",
              "</style>\n",
              "<table border=\"1\" class=\"dataframe\">\n",
              "  <thead>\n",
              "    <tr style=\"text-align: right;\">\n",
              "      <th></th>\n",
              "      <th>label</th>\n",
              "      <th>pixel1</th>\n",
              "      <th>pixel2</th>\n",
              "      <th>pixel3</th>\n",
              "      <th>pixel4</th>\n",
              "      <th>pixel5</th>\n",
              "      <th>pixel6</th>\n",
              "      <th>pixel7</th>\n",
              "      <th>pixel8</th>\n",
              "      <th>pixel9</th>\n",
              "      <th>...</th>\n",
              "      <th>pixel775</th>\n",
              "      <th>pixel776</th>\n",
              "      <th>pixel777</th>\n",
              "      <th>pixel778</th>\n",
              "      <th>pixel779</th>\n",
              "      <th>pixel780</th>\n",
              "      <th>pixel781</th>\n",
              "      <th>pixel782</th>\n",
              "      <th>pixel783</th>\n",
              "      <th>pixel784</th>\n",
              "    </tr>\n",
              "  </thead>\n",
              "  <tbody>\n",
              "    <tr>\n",
              "      <th>0</th>\n",
              "      <td>3</td>\n",
              "      <td>107</td>\n",
              "      <td>118</td>\n",
              "      <td>127</td>\n",
              "      <td>134</td>\n",
              "      <td>139</td>\n",
              "      <td>143</td>\n",
              "      <td>146</td>\n",
              "      <td>150</td>\n",
              "      <td>153</td>\n",
              "      <td>...</td>\n",
              "      <td>207</td>\n",
              "      <td>207</td>\n",
              "      <td>207</td>\n",
              "      <td>207</td>\n",
              "      <td>206</td>\n",
              "      <td>206</td>\n",
              "      <td>206</td>\n",
              "      <td>204</td>\n",
              "      <td>203</td>\n",
              "      <td>202</td>\n",
              "    </tr>\n",
              "    <tr>\n",
              "      <th>1</th>\n",
              "      <td>6</td>\n",
              "      <td>155</td>\n",
              "      <td>157</td>\n",
              "      <td>156</td>\n",
              "      <td>156</td>\n",
              "      <td>156</td>\n",
              "      <td>157</td>\n",
              "      <td>156</td>\n",
              "      <td>158</td>\n",
              "      <td>158</td>\n",
              "      <td>...</td>\n",
              "      <td>69</td>\n",
              "      <td>149</td>\n",
              "      <td>128</td>\n",
              "      <td>87</td>\n",
              "      <td>94</td>\n",
              "      <td>163</td>\n",
              "      <td>175</td>\n",
              "      <td>103</td>\n",
              "      <td>135</td>\n",
              "      <td>149</td>\n",
              "    </tr>\n",
              "    <tr>\n",
              "      <th>2</th>\n",
              "      <td>2</td>\n",
              "      <td>187</td>\n",
              "      <td>188</td>\n",
              "      <td>188</td>\n",
              "      <td>187</td>\n",
              "      <td>187</td>\n",
              "      <td>186</td>\n",
              "      <td>187</td>\n",
              "      <td>188</td>\n",
              "      <td>187</td>\n",
              "      <td>...</td>\n",
              "      <td>202</td>\n",
              "      <td>201</td>\n",
              "      <td>200</td>\n",
              "      <td>199</td>\n",
              "      <td>198</td>\n",
              "      <td>199</td>\n",
              "      <td>198</td>\n",
              "      <td>195</td>\n",
              "      <td>194</td>\n",
              "      <td>195</td>\n",
              "    </tr>\n",
              "    <tr>\n",
              "      <th>3</th>\n",
              "      <td>2</td>\n",
              "      <td>211</td>\n",
              "      <td>211</td>\n",
              "      <td>212</td>\n",
              "      <td>212</td>\n",
              "      <td>211</td>\n",
              "      <td>210</td>\n",
              "      <td>211</td>\n",
              "      <td>210</td>\n",
              "      <td>210</td>\n",
              "      <td>...</td>\n",
              "      <td>235</td>\n",
              "      <td>234</td>\n",
              "      <td>233</td>\n",
              "      <td>231</td>\n",
              "      <td>230</td>\n",
              "      <td>226</td>\n",
              "      <td>225</td>\n",
              "      <td>222</td>\n",
              "      <td>229</td>\n",
              "      <td>163</td>\n",
              "    </tr>\n",
              "    <tr>\n",
              "      <th>4</th>\n",
              "      <td>13</td>\n",
              "      <td>164</td>\n",
              "      <td>167</td>\n",
              "      <td>170</td>\n",
              "      <td>172</td>\n",
              "      <td>176</td>\n",
              "      <td>179</td>\n",
              "      <td>180</td>\n",
              "      <td>184</td>\n",
              "      <td>185</td>\n",
              "      <td>...</td>\n",
              "      <td>92</td>\n",
              "      <td>105</td>\n",
              "      <td>105</td>\n",
              "      <td>108</td>\n",
              "      <td>133</td>\n",
              "      <td>163</td>\n",
              "      <td>157</td>\n",
              "      <td>163</td>\n",
              "      <td>164</td>\n",
              "      <td>179</td>\n",
              "    </tr>\n",
              "  </tbody>\n",
              "</table>\n",
              "<p>5 rows × 785 columns</p>\n",
              "</div>\n",
              "      <button class=\"colab-df-convert\" onclick=\"convertToInteractive('df-51715846-105a-4bef-a130-35ea95a401a5')\"\n",
              "              title=\"Convert this dataframe to an interactive table.\"\n",
              "              style=\"display:none;\">\n",
              "        \n",
              "  <svg xmlns=\"http://www.w3.org/2000/svg\" height=\"24px\"viewBox=\"0 0 24 24\"\n",
              "       width=\"24px\">\n",
              "    <path d=\"M0 0h24v24H0V0z\" fill=\"none\"/>\n",
              "    <path d=\"M18.56 5.44l.94 2.06.94-2.06 2.06-.94-2.06-.94-.94-2.06-.94 2.06-2.06.94zm-11 1L8.5 8.5l.94-2.06 2.06-.94-2.06-.94L8.5 2.5l-.94 2.06-2.06.94zm10 10l.94 2.06.94-2.06 2.06-.94-2.06-.94-.94-2.06-.94 2.06-2.06.94z\"/><path d=\"M17.41 7.96l-1.37-1.37c-.4-.4-.92-.59-1.43-.59-.52 0-1.04.2-1.43.59L10.3 9.45l-7.72 7.72c-.78.78-.78 2.05 0 2.83L4 21.41c.39.39.9.59 1.41.59.51 0 1.02-.2 1.41-.59l7.78-7.78 2.81-2.81c.8-.78.8-2.07 0-2.86zM5.41 20L4 18.59l7.72-7.72 1.47 1.35L5.41 20z\"/>\n",
              "  </svg>\n",
              "      </button>\n",
              "      \n",
              "  <style>\n",
              "    .colab-df-container {\n",
              "      display:flex;\n",
              "      flex-wrap:wrap;\n",
              "      gap: 12px;\n",
              "    }\n",
              "\n",
              "    .colab-df-convert {\n",
              "      background-color: #E8F0FE;\n",
              "      border: none;\n",
              "      border-radius: 50%;\n",
              "      cursor: pointer;\n",
              "      display: none;\n",
              "      fill: #1967D2;\n",
              "      height: 32px;\n",
              "      padding: 0 0 0 0;\n",
              "      width: 32px;\n",
              "    }\n",
              "\n",
              "    .colab-df-convert:hover {\n",
              "      background-color: #E2EBFA;\n",
              "      box-shadow: 0px 1px 2px rgba(60, 64, 67, 0.3), 0px 1px 3px 1px rgba(60, 64, 67, 0.15);\n",
              "      fill: #174EA6;\n",
              "    }\n",
              "\n",
              "    [theme=dark] .colab-df-convert {\n",
              "      background-color: #3B4455;\n",
              "      fill: #D2E3FC;\n",
              "    }\n",
              "\n",
              "    [theme=dark] .colab-df-convert:hover {\n",
              "      background-color: #434B5C;\n",
              "      box-shadow: 0px 1px 3px 1px rgba(0, 0, 0, 0.15);\n",
              "      filter: drop-shadow(0px 1px 2px rgba(0, 0, 0, 0.3));\n",
              "      fill: #FFFFFF;\n",
              "    }\n",
              "  </style>\n",
              "\n",
              "      <script>\n",
              "        const buttonEl =\n",
              "          document.querySelector('#df-51715846-105a-4bef-a130-35ea95a401a5 button.colab-df-convert');\n",
              "        buttonEl.style.display =\n",
              "          google.colab.kernel.accessAllowed ? 'block' : 'none';\n",
              "\n",
              "        async function convertToInteractive(key) {\n",
              "          const element = document.querySelector('#df-51715846-105a-4bef-a130-35ea95a401a5');\n",
              "          const dataTable =\n",
              "            await google.colab.kernel.invokeFunction('convertToInteractive',\n",
              "                                                     [key], {});\n",
              "          if (!dataTable) return;\n",
              "\n",
              "          const docLinkHtml = 'Like what you see? Visit the ' +\n",
              "            '<a target=\"_blank\" href=https://colab.research.google.com/notebooks/data_table.ipynb>data table notebook</a>'\n",
              "            + ' to learn more about interactive tables.';\n",
              "          element.innerHTML = '';\n",
              "          dataTable['output_type'] = 'display_data';\n",
              "          await google.colab.output.renderOutput(dataTable, element);\n",
              "          const docLink = document.createElement('div');\n",
              "          docLink.innerHTML = docLinkHtml;\n",
              "          element.appendChild(docLink);\n",
              "        }\n",
              "      </script>\n",
              "    </div>\n",
              "  </div>\n",
              "  "
            ]
          },
          "metadata": {},
          "execution_count": 3
        }
      ],
      "source": [
        "gesture_recog_train=pd.read_csv('/content/sign_mnist_train.csv')\n",
        "gesture_recog_train.head()"
      ]
    },
    {
      "cell_type": "code",
      "execution_count": null,
      "id": "535bdb22",
      "metadata": {
        "colab": {
          "base_uri": "https://localhost:8080/",
          "height": 300
        },
        "id": "535bdb22",
        "outputId": "24f0376c-7d33-482d-8f88-e89f40d9abce"
      },
      "outputs": [
        {
          "output_type": "execute_result",
          "data": {
            "text/plain": [
              "   label  pixel1  pixel2  pixel3  pixel4  pixel5  pixel6  pixel7  pixel8  \\\n",
              "0      6     149     149     150     150     150     151     151     150   \n",
              "1      5     126     128     131     132     133     134     135     135   \n",
              "2     10      85      88      92      96     105     123     135     143   \n",
              "3      0     203     205     207     206     207     209     210     209   \n",
              "4      3     188     191     193     195     199     201     202     203   \n",
              "\n",
              "   pixel9  ...  pixel775  pixel776  pixel777  pixel778  pixel779  pixel780  \\\n",
              "0     151  ...       138       148       127        89        82        96   \n",
              "1     136  ...        47       104       194       183       186       184   \n",
              "2     147  ...        68       166       242       227       230       227   \n",
              "3     210  ...       154       248       247       248       253       236   \n",
              "4     203  ...        26        40        64        48        29        46   \n",
              "\n",
              "   pixel781  pixel782  pixel783  pixel784  \n",
              "0       106       112       120       107  \n",
              "1       184       184       182       180  \n",
              "2       226       225       224       222  \n",
              "3       230       240       253       255  \n",
              "4        49        46        46        53  \n",
              "\n",
              "[5 rows x 785 columns]"
            ],
            "text/html": [
              "\n",
              "  <div id=\"df-cc2672b7-0f11-45b1-a232-abc79e30607a\">\n",
              "    <div class=\"colab-df-container\">\n",
              "      <div>\n",
              "<style scoped>\n",
              "    .dataframe tbody tr th:only-of-type {\n",
              "        vertical-align: middle;\n",
              "    }\n",
              "\n",
              "    .dataframe tbody tr th {\n",
              "        vertical-align: top;\n",
              "    }\n",
              "\n",
              "    .dataframe thead th {\n",
              "        text-align: right;\n",
              "    }\n",
              "</style>\n",
              "<table border=\"1\" class=\"dataframe\">\n",
              "  <thead>\n",
              "    <tr style=\"text-align: right;\">\n",
              "      <th></th>\n",
              "      <th>label</th>\n",
              "      <th>pixel1</th>\n",
              "      <th>pixel2</th>\n",
              "      <th>pixel3</th>\n",
              "      <th>pixel4</th>\n",
              "      <th>pixel5</th>\n",
              "      <th>pixel6</th>\n",
              "      <th>pixel7</th>\n",
              "      <th>pixel8</th>\n",
              "      <th>pixel9</th>\n",
              "      <th>...</th>\n",
              "      <th>pixel775</th>\n",
              "      <th>pixel776</th>\n",
              "      <th>pixel777</th>\n",
              "      <th>pixel778</th>\n",
              "      <th>pixel779</th>\n",
              "      <th>pixel780</th>\n",
              "      <th>pixel781</th>\n",
              "      <th>pixel782</th>\n",
              "      <th>pixel783</th>\n",
              "      <th>pixel784</th>\n",
              "    </tr>\n",
              "  </thead>\n",
              "  <tbody>\n",
              "    <tr>\n",
              "      <th>0</th>\n",
              "      <td>6</td>\n",
              "      <td>149</td>\n",
              "      <td>149</td>\n",
              "      <td>150</td>\n",
              "      <td>150</td>\n",
              "      <td>150</td>\n",
              "      <td>151</td>\n",
              "      <td>151</td>\n",
              "      <td>150</td>\n",
              "      <td>151</td>\n",
              "      <td>...</td>\n",
              "      <td>138</td>\n",
              "      <td>148</td>\n",
              "      <td>127</td>\n",
              "      <td>89</td>\n",
              "      <td>82</td>\n",
              "      <td>96</td>\n",
              "      <td>106</td>\n",
              "      <td>112</td>\n",
              "      <td>120</td>\n",
              "      <td>107</td>\n",
              "    </tr>\n",
              "    <tr>\n",
              "      <th>1</th>\n",
              "      <td>5</td>\n",
              "      <td>126</td>\n",
              "      <td>128</td>\n",
              "      <td>131</td>\n",
              "      <td>132</td>\n",
              "      <td>133</td>\n",
              "      <td>134</td>\n",
              "      <td>135</td>\n",
              "      <td>135</td>\n",
              "      <td>136</td>\n",
              "      <td>...</td>\n",
              "      <td>47</td>\n",
              "      <td>104</td>\n",
              "      <td>194</td>\n",
              "      <td>183</td>\n",
              "      <td>186</td>\n",
              "      <td>184</td>\n",
              "      <td>184</td>\n",
              "      <td>184</td>\n",
              "      <td>182</td>\n",
              "      <td>180</td>\n",
              "    </tr>\n",
              "    <tr>\n",
              "      <th>2</th>\n",
              "      <td>10</td>\n",
              "      <td>85</td>\n",
              "      <td>88</td>\n",
              "      <td>92</td>\n",
              "      <td>96</td>\n",
              "      <td>105</td>\n",
              "      <td>123</td>\n",
              "      <td>135</td>\n",
              "      <td>143</td>\n",
              "      <td>147</td>\n",
              "      <td>...</td>\n",
              "      <td>68</td>\n",
              "      <td>166</td>\n",
              "      <td>242</td>\n",
              "      <td>227</td>\n",
              "      <td>230</td>\n",
              "      <td>227</td>\n",
              "      <td>226</td>\n",
              "      <td>225</td>\n",
              "      <td>224</td>\n",
              "      <td>222</td>\n",
              "    </tr>\n",
              "    <tr>\n",
              "      <th>3</th>\n",
              "      <td>0</td>\n",
              "      <td>203</td>\n",
              "      <td>205</td>\n",
              "      <td>207</td>\n",
              "      <td>206</td>\n",
              "      <td>207</td>\n",
              "      <td>209</td>\n",
              "      <td>210</td>\n",
              "      <td>209</td>\n",
              "      <td>210</td>\n",
              "      <td>...</td>\n",
              "      <td>154</td>\n",
              "      <td>248</td>\n",
              "      <td>247</td>\n",
              "      <td>248</td>\n",
              "      <td>253</td>\n",
              "      <td>236</td>\n",
              "      <td>230</td>\n",
              "      <td>240</td>\n",
              "      <td>253</td>\n",
              "      <td>255</td>\n",
              "    </tr>\n",
              "    <tr>\n",
              "      <th>4</th>\n",
              "      <td>3</td>\n",
              "      <td>188</td>\n",
              "      <td>191</td>\n",
              "      <td>193</td>\n",
              "      <td>195</td>\n",
              "      <td>199</td>\n",
              "      <td>201</td>\n",
              "      <td>202</td>\n",
              "      <td>203</td>\n",
              "      <td>203</td>\n",
              "      <td>...</td>\n",
              "      <td>26</td>\n",
              "      <td>40</td>\n",
              "      <td>64</td>\n",
              "      <td>48</td>\n",
              "      <td>29</td>\n",
              "      <td>46</td>\n",
              "      <td>49</td>\n",
              "      <td>46</td>\n",
              "      <td>46</td>\n",
              "      <td>53</td>\n",
              "    </tr>\n",
              "  </tbody>\n",
              "</table>\n",
              "<p>5 rows × 785 columns</p>\n",
              "</div>\n",
              "      <button class=\"colab-df-convert\" onclick=\"convertToInteractive('df-cc2672b7-0f11-45b1-a232-abc79e30607a')\"\n",
              "              title=\"Convert this dataframe to an interactive table.\"\n",
              "              style=\"display:none;\">\n",
              "        \n",
              "  <svg xmlns=\"http://www.w3.org/2000/svg\" height=\"24px\"viewBox=\"0 0 24 24\"\n",
              "       width=\"24px\">\n",
              "    <path d=\"M0 0h24v24H0V0z\" fill=\"none\"/>\n",
              "    <path d=\"M18.56 5.44l.94 2.06.94-2.06 2.06-.94-2.06-.94-.94-2.06-.94 2.06-2.06.94zm-11 1L8.5 8.5l.94-2.06 2.06-.94-2.06-.94L8.5 2.5l-.94 2.06-2.06.94zm10 10l.94 2.06.94-2.06 2.06-.94-2.06-.94-.94-2.06-.94 2.06-2.06.94z\"/><path d=\"M17.41 7.96l-1.37-1.37c-.4-.4-.92-.59-1.43-.59-.52 0-1.04.2-1.43.59L10.3 9.45l-7.72 7.72c-.78.78-.78 2.05 0 2.83L4 21.41c.39.39.9.59 1.41.59.51 0 1.02-.2 1.41-.59l7.78-7.78 2.81-2.81c.8-.78.8-2.07 0-2.86zM5.41 20L4 18.59l7.72-7.72 1.47 1.35L5.41 20z\"/>\n",
              "  </svg>\n",
              "      </button>\n",
              "      \n",
              "  <style>\n",
              "    .colab-df-container {\n",
              "      display:flex;\n",
              "      flex-wrap:wrap;\n",
              "      gap: 12px;\n",
              "    }\n",
              "\n",
              "    .colab-df-convert {\n",
              "      background-color: #E8F0FE;\n",
              "      border: none;\n",
              "      border-radius: 50%;\n",
              "      cursor: pointer;\n",
              "      display: none;\n",
              "      fill: #1967D2;\n",
              "      height: 32px;\n",
              "      padding: 0 0 0 0;\n",
              "      width: 32px;\n",
              "    }\n",
              "\n",
              "    .colab-df-convert:hover {\n",
              "      background-color: #E2EBFA;\n",
              "      box-shadow: 0px 1px 2px rgba(60, 64, 67, 0.3), 0px 1px 3px 1px rgba(60, 64, 67, 0.15);\n",
              "      fill: #174EA6;\n",
              "    }\n",
              "\n",
              "    [theme=dark] .colab-df-convert {\n",
              "      background-color: #3B4455;\n",
              "      fill: #D2E3FC;\n",
              "    }\n",
              "\n",
              "    [theme=dark] .colab-df-convert:hover {\n",
              "      background-color: #434B5C;\n",
              "      box-shadow: 0px 1px 3px 1px rgba(0, 0, 0, 0.15);\n",
              "      filter: drop-shadow(0px 1px 2px rgba(0, 0, 0, 0.3));\n",
              "      fill: #FFFFFF;\n",
              "    }\n",
              "  </style>\n",
              "\n",
              "      <script>\n",
              "        const buttonEl =\n",
              "          document.querySelector('#df-cc2672b7-0f11-45b1-a232-abc79e30607a button.colab-df-convert');\n",
              "        buttonEl.style.display =\n",
              "          google.colab.kernel.accessAllowed ? 'block' : 'none';\n",
              "\n",
              "        async function convertToInteractive(key) {\n",
              "          const element = document.querySelector('#df-cc2672b7-0f11-45b1-a232-abc79e30607a');\n",
              "          const dataTable =\n",
              "            await google.colab.kernel.invokeFunction('convertToInteractive',\n",
              "                                                     [key], {});\n",
              "          if (!dataTable) return;\n",
              "\n",
              "          const docLinkHtml = 'Like what you see? Visit the ' +\n",
              "            '<a target=\"_blank\" href=https://colab.research.google.com/notebooks/data_table.ipynb>data table notebook</a>'\n",
              "            + ' to learn more about interactive tables.';\n",
              "          element.innerHTML = '';\n",
              "          dataTable['output_type'] = 'display_data';\n",
              "          await google.colab.output.renderOutput(dataTable, element);\n",
              "          const docLink = document.createElement('div');\n",
              "          docLink.innerHTML = docLinkHtml;\n",
              "          element.appendChild(docLink);\n",
              "        }\n",
              "      </script>\n",
              "    </div>\n",
              "  </div>\n",
              "  "
            ]
          },
          "metadata": {},
          "execution_count": 4
        }
      ],
      "source": [
        "gesture_recog_test=pd.read_csv('/content/sign_mnist_test.csv')\n",
        "gesture_recog_test.head()"
      ]
    },
    {
      "cell_type": "code",
      "execution_count": null,
      "id": "d12851ac",
      "metadata": {
        "colab": {
          "base_uri": "https://localhost:8080/",
          "height": 394
        },
        "id": "d12851ac",
        "outputId": "2c5d4c0b-be97-4671-d951-2014800ee71e"
      },
      "outputs": [
        {
          "output_type": "execute_result",
          "data": {
            "text/plain": [
              "              label        pixel1        pixel2        pixel3        pixel4  \\\n",
              "count  27455.000000  27455.000000  27455.000000  27455.000000  27455.000000   \n",
              "mean      12.318813    145.419377    148.500273    151.247714    153.546531   \n",
              "std        7.287552     41.358555     39.942152     39.056286     38.595247   \n",
              "min        0.000000      0.000000      0.000000      0.000000      0.000000   \n",
              "25%        6.000000    121.000000    126.000000    130.000000    133.000000   \n",
              "50%       13.000000    150.000000    153.000000    156.000000    158.000000   \n",
              "75%       19.000000    174.000000    176.000000    178.000000    179.000000   \n",
              "max       24.000000    255.000000    255.000000    255.000000    255.000000   \n",
              "\n",
              "             pixel5        pixel6        pixel7        pixel8        pixel9  \\\n",
              "count  27455.000000  27455.000000  27455.000000  27455.000000  27455.000000   \n",
              "mean     156.210891    158.411255    160.472154    162.339683    163.954799   \n",
              "std       37.111165     36.125579     35.016392     33.661998     32.651607   \n",
              "min        0.000000      0.000000      0.000000      0.000000      0.000000   \n",
              "25%      137.000000    140.000000    142.000000    144.000000    146.000000   \n",
              "50%      160.000000    162.000000    164.000000    165.000000    166.000000   \n",
              "75%      181.000000    182.000000    183.000000    184.000000    185.000000   \n",
              "max      255.000000    255.000000    255.000000    255.000000    255.000000   \n",
              "\n",
              "       ...      pixel775      pixel776      pixel777      pixel778  \\\n",
              "count  ...  27455.000000  27455.000000  27455.000000  27455.000000   \n",
              "mean   ...    141.104863    147.495611    153.325806    159.125332   \n",
              "std    ...     63.751194     65.512894     64.427412     63.708507   \n",
              "min    ...      0.000000      0.000000      0.000000      0.000000   \n",
              "25%    ...     92.000000     96.000000    103.000000    112.000000   \n",
              "50%    ...    144.000000    162.000000    172.000000    180.000000   \n",
              "75%    ...    196.000000    202.000000    205.000000    207.000000   \n",
              "max    ...    255.000000    255.000000    255.000000    255.000000   \n",
              "\n",
              "           pixel779      pixel780      pixel781      pixel782      pixel783  \\\n",
              "count  27455.000000  27455.000000  27455.000000  27455.000000  27455.000000   \n",
              "mean     161.969259    162.736696    162.906137    161.966454    161.137898   \n",
              "std       63.738316     63.444008     63.509210     63.298721     63.610415   \n",
              "min        0.000000      0.000000      0.000000      0.000000      0.000000   \n",
              "25%      120.000000    125.000000    128.000000    128.000000    128.000000   \n",
              "50%      183.000000    184.000000    184.000000    182.000000    182.000000   \n",
              "75%      208.000000    207.000000    207.000000    206.000000    204.000000   \n",
              "max      255.000000    255.000000    255.000000    255.000000    255.000000   \n",
              "\n",
              "           pixel784  \n",
              "count  27455.000000  \n",
              "mean     159.824731  \n",
              "std       64.396846  \n",
              "min        0.000000  \n",
              "25%      125.500000  \n",
              "50%      182.000000  \n",
              "75%      204.000000  \n",
              "max      255.000000  \n",
              "\n",
              "[8 rows x 785 columns]"
            ],
            "text/html": [
              "\n",
              "  <div id=\"df-a1f19f63-3891-4256-a9a7-43a2bbde6f7e\">\n",
              "    <div class=\"colab-df-container\">\n",
              "      <div>\n",
              "<style scoped>\n",
              "    .dataframe tbody tr th:only-of-type {\n",
              "        vertical-align: middle;\n",
              "    }\n",
              "\n",
              "    .dataframe tbody tr th {\n",
              "        vertical-align: top;\n",
              "    }\n",
              "\n",
              "    .dataframe thead th {\n",
              "        text-align: right;\n",
              "    }\n",
              "</style>\n",
              "<table border=\"1\" class=\"dataframe\">\n",
              "  <thead>\n",
              "    <tr style=\"text-align: right;\">\n",
              "      <th></th>\n",
              "      <th>label</th>\n",
              "      <th>pixel1</th>\n",
              "      <th>pixel2</th>\n",
              "      <th>pixel3</th>\n",
              "      <th>pixel4</th>\n",
              "      <th>pixel5</th>\n",
              "      <th>pixel6</th>\n",
              "      <th>pixel7</th>\n",
              "      <th>pixel8</th>\n",
              "      <th>pixel9</th>\n",
              "      <th>...</th>\n",
              "      <th>pixel775</th>\n",
              "      <th>pixel776</th>\n",
              "      <th>pixel777</th>\n",
              "      <th>pixel778</th>\n",
              "      <th>pixel779</th>\n",
              "      <th>pixel780</th>\n",
              "      <th>pixel781</th>\n",
              "      <th>pixel782</th>\n",
              "      <th>pixel783</th>\n",
              "      <th>pixel784</th>\n",
              "    </tr>\n",
              "  </thead>\n",
              "  <tbody>\n",
              "    <tr>\n",
              "      <th>count</th>\n",
              "      <td>27455.000000</td>\n",
              "      <td>27455.000000</td>\n",
              "      <td>27455.000000</td>\n",
              "      <td>27455.000000</td>\n",
              "      <td>27455.000000</td>\n",
              "      <td>27455.000000</td>\n",
              "      <td>27455.000000</td>\n",
              "      <td>27455.000000</td>\n",
              "      <td>27455.000000</td>\n",
              "      <td>27455.000000</td>\n",
              "      <td>...</td>\n",
              "      <td>27455.000000</td>\n",
              "      <td>27455.000000</td>\n",
              "      <td>27455.000000</td>\n",
              "      <td>27455.000000</td>\n",
              "      <td>27455.000000</td>\n",
              "      <td>27455.000000</td>\n",
              "      <td>27455.000000</td>\n",
              "      <td>27455.000000</td>\n",
              "      <td>27455.000000</td>\n",
              "      <td>27455.000000</td>\n",
              "    </tr>\n",
              "    <tr>\n",
              "      <th>mean</th>\n",
              "      <td>12.318813</td>\n",
              "      <td>145.419377</td>\n",
              "      <td>148.500273</td>\n",
              "      <td>151.247714</td>\n",
              "      <td>153.546531</td>\n",
              "      <td>156.210891</td>\n",
              "      <td>158.411255</td>\n",
              "      <td>160.472154</td>\n",
              "      <td>162.339683</td>\n",
              "      <td>163.954799</td>\n",
              "      <td>...</td>\n",
              "      <td>141.104863</td>\n",
              "      <td>147.495611</td>\n",
              "      <td>153.325806</td>\n",
              "      <td>159.125332</td>\n",
              "      <td>161.969259</td>\n",
              "      <td>162.736696</td>\n",
              "      <td>162.906137</td>\n",
              "      <td>161.966454</td>\n",
              "      <td>161.137898</td>\n",
              "      <td>159.824731</td>\n",
              "    </tr>\n",
              "    <tr>\n",
              "      <th>std</th>\n",
              "      <td>7.287552</td>\n",
              "      <td>41.358555</td>\n",
              "      <td>39.942152</td>\n",
              "      <td>39.056286</td>\n",
              "      <td>38.595247</td>\n",
              "      <td>37.111165</td>\n",
              "      <td>36.125579</td>\n",
              "      <td>35.016392</td>\n",
              "      <td>33.661998</td>\n",
              "      <td>32.651607</td>\n",
              "      <td>...</td>\n",
              "      <td>63.751194</td>\n",
              "      <td>65.512894</td>\n",
              "      <td>64.427412</td>\n",
              "      <td>63.708507</td>\n",
              "      <td>63.738316</td>\n",
              "      <td>63.444008</td>\n",
              "      <td>63.509210</td>\n",
              "      <td>63.298721</td>\n",
              "      <td>63.610415</td>\n",
              "      <td>64.396846</td>\n",
              "    </tr>\n",
              "    <tr>\n",
              "      <th>min</th>\n",
              "      <td>0.000000</td>\n",
              "      <td>0.000000</td>\n",
              "      <td>0.000000</td>\n",
              "      <td>0.000000</td>\n",
              "      <td>0.000000</td>\n",
              "      <td>0.000000</td>\n",
              "      <td>0.000000</td>\n",
              "      <td>0.000000</td>\n",
              "      <td>0.000000</td>\n",
              "      <td>0.000000</td>\n",
              "      <td>...</td>\n",
              "      <td>0.000000</td>\n",
              "      <td>0.000000</td>\n",
              "      <td>0.000000</td>\n",
              "      <td>0.000000</td>\n",
              "      <td>0.000000</td>\n",
              "      <td>0.000000</td>\n",
              "      <td>0.000000</td>\n",
              "      <td>0.000000</td>\n",
              "      <td>0.000000</td>\n",
              "      <td>0.000000</td>\n",
              "    </tr>\n",
              "    <tr>\n",
              "      <th>25%</th>\n",
              "      <td>6.000000</td>\n",
              "      <td>121.000000</td>\n",
              "      <td>126.000000</td>\n",
              "      <td>130.000000</td>\n",
              "      <td>133.000000</td>\n",
              "      <td>137.000000</td>\n",
              "      <td>140.000000</td>\n",
              "      <td>142.000000</td>\n",
              "      <td>144.000000</td>\n",
              "      <td>146.000000</td>\n",
              "      <td>...</td>\n",
              "      <td>92.000000</td>\n",
              "      <td>96.000000</td>\n",
              "      <td>103.000000</td>\n",
              "      <td>112.000000</td>\n",
              "      <td>120.000000</td>\n",
              "      <td>125.000000</td>\n",
              "      <td>128.000000</td>\n",
              "      <td>128.000000</td>\n",
              "      <td>128.000000</td>\n",
              "      <td>125.500000</td>\n",
              "    </tr>\n",
              "    <tr>\n",
              "      <th>50%</th>\n",
              "      <td>13.000000</td>\n",
              "      <td>150.000000</td>\n",
              "      <td>153.000000</td>\n",
              "      <td>156.000000</td>\n",
              "      <td>158.000000</td>\n",
              "      <td>160.000000</td>\n",
              "      <td>162.000000</td>\n",
              "      <td>164.000000</td>\n",
              "      <td>165.000000</td>\n",
              "      <td>166.000000</td>\n",
              "      <td>...</td>\n",
              "      <td>144.000000</td>\n",
              "      <td>162.000000</td>\n",
              "      <td>172.000000</td>\n",
              "      <td>180.000000</td>\n",
              "      <td>183.000000</td>\n",
              "      <td>184.000000</td>\n",
              "      <td>184.000000</td>\n",
              "      <td>182.000000</td>\n",
              "      <td>182.000000</td>\n",
              "      <td>182.000000</td>\n",
              "    </tr>\n",
              "    <tr>\n",
              "      <th>75%</th>\n",
              "      <td>19.000000</td>\n",
              "      <td>174.000000</td>\n",
              "      <td>176.000000</td>\n",
              "      <td>178.000000</td>\n",
              "      <td>179.000000</td>\n",
              "      <td>181.000000</td>\n",
              "      <td>182.000000</td>\n",
              "      <td>183.000000</td>\n",
              "      <td>184.000000</td>\n",
              "      <td>185.000000</td>\n",
              "      <td>...</td>\n",
              "      <td>196.000000</td>\n",
              "      <td>202.000000</td>\n",
              "      <td>205.000000</td>\n",
              "      <td>207.000000</td>\n",
              "      <td>208.000000</td>\n",
              "      <td>207.000000</td>\n",
              "      <td>207.000000</td>\n",
              "      <td>206.000000</td>\n",
              "      <td>204.000000</td>\n",
              "      <td>204.000000</td>\n",
              "    </tr>\n",
              "    <tr>\n",
              "      <th>max</th>\n",
              "      <td>24.000000</td>\n",
              "      <td>255.000000</td>\n",
              "      <td>255.000000</td>\n",
              "      <td>255.000000</td>\n",
              "      <td>255.000000</td>\n",
              "      <td>255.000000</td>\n",
              "      <td>255.000000</td>\n",
              "      <td>255.000000</td>\n",
              "      <td>255.000000</td>\n",
              "      <td>255.000000</td>\n",
              "      <td>...</td>\n",
              "      <td>255.000000</td>\n",
              "      <td>255.000000</td>\n",
              "      <td>255.000000</td>\n",
              "      <td>255.000000</td>\n",
              "      <td>255.000000</td>\n",
              "      <td>255.000000</td>\n",
              "      <td>255.000000</td>\n",
              "      <td>255.000000</td>\n",
              "      <td>255.000000</td>\n",
              "      <td>255.000000</td>\n",
              "    </tr>\n",
              "  </tbody>\n",
              "</table>\n",
              "<p>8 rows × 785 columns</p>\n",
              "</div>\n",
              "      <button class=\"colab-df-convert\" onclick=\"convertToInteractive('df-a1f19f63-3891-4256-a9a7-43a2bbde6f7e')\"\n",
              "              title=\"Convert this dataframe to an interactive table.\"\n",
              "              style=\"display:none;\">\n",
              "        \n",
              "  <svg xmlns=\"http://www.w3.org/2000/svg\" height=\"24px\"viewBox=\"0 0 24 24\"\n",
              "       width=\"24px\">\n",
              "    <path d=\"M0 0h24v24H0V0z\" fill=\"none\"/>\n",
              "    <path d=\"M18.56 5.44l.94 2.06.94-2.06 2.06-.94-2.06-.94-.94-2.06-.94 2.06-2.06.94zm-11 1L8.5 8.5l.94-2.06 2.06-.94-2.06-.94L8.5 2.5l-.94 2.06-2.06.94zm10 10l.94 2.06.94-2.06 2.06-.94-2.06-.94-.94-2.06-.94 2.06-2.06.94z\"/><path d=\"M17.41 7.96l-1.37-1.37c-.4-.4-.92-.59-1.43-.59-.52 0-1.04.2-1.43.59L10.3 9.45l-7.72 7.72c-.78.78-.78 2.05 0 2.83L4 21.41c.39.39.9.59 1.41.59.51 0 1.02-.2 1.41-.59l7.78-7.78 2.81-2.81c.8-.78.8-2.07 0-2.86zM5.41 20L4 18.59l7.72-7.72 1.47 1.35L5.41 20z\"/>\n",
              "  </svg>\n",
              "      </button>\n",
              "      \n",
              "  <style>\n",
              "    .colab-df-container {\n",
              "      display:flex;\n",
              "      flex-wrap:wrap;\n",
              "      gap: 12px;\n",
              "    }\n",
              "\n",
              "    .colab-df-convert {\n",
              "      background-color: #E8F0FE;\n",
              "      border: none;\n",
              "      border-radius: 50%;\n",
              "      cursor: pointer;\n",
              "      display: none;\n",
              "      fill: #1967D2;\n",
              "      height: 32px;\n",
              "      padding: 0 0 0 0;\n",
              "      width: 32px;\n",
              "    }\n",
              "\n",
              "    .colab-df-convert:hover {\n",
              "      background-color: #E2EBFA;\n",
              "      box-shadow: 0px 1px 2px rgba(60, 64, 67, 0.3), 0px 1px 3px 1px rgba(60, 64, 67, 0.15);\n",
              "      fill: #174EA6;\n",
              "    }\n",
              "\n",
              "    [theme=dark] .colab-df-convert {\n",
              "      background-color: #3B4455;\n",
              "      fill: #D2E3FC;\n",
              "    }\n",
              "\n",
              "    [theme=dark] .colab-df-convert:hover {\n",
              "      background-color: #434B5C;\n",
              "      box-shadow: 0px 1px 3px 1px rgba(0, 0, 0, 0.15);\n",
              "      filter: drop-shadow(0px 1px 2px rgba(0, 0, 0, 0.3));\n",
              "      fill: #FFFFFF;\n",
              "    }\n",
              "  </style>\n",
              "\n",
              "      <script>\n",
              "        const buttonEl =\n",
              "          document.querySelector('#df-a1f19f63-3891-4256-a9a7-43a2bbde6f7e button.colab-df-convert');\n",
              "        buttonEl.style.display =\n",
              "          google.colab.kernel.accessAllowed ? 'block' : 'none';\n",
              "\n",
              "        async function convertToInteractive(key) {\n",
              "          const element = document.querySelector('#df-a1f19f63-3891-4256-a9a7-43a2bbde6f7e');\n",
              "          const dataTable =\n",
              "            await google.colab.kernel.invokeFunction('convertToInteractive',\n",
              "                                                     [key], {});\n",
              "          if (!dataTable) return;\n",
              "\n",
              "          const docLinkHtml = 'Like what you see? Visit the ' +\n",
              "            '<a target=\"_blank\" href=https://colab.research.google.com/notebooks/data_table.ipynb>data table notebook</a>'\n",
              "            + ' to learn more about interactive tables.';\n",
              "          element.innerHTML = '';\n",
              "          dataTable['output_type'] = 'display_data';\n",
              "          await google.colab.output.renderOutput(dataTable, element);\n",
              "          const docLink = document.createElement('div');\n",
              "          docLink.innerHTML = docLinkHtml;\n",
              "          element.appendChild(docLink);\n",
              "        }\n",
              "      </script>\n",
              "    </div>\n",
              "  </div>\n",
              "  "
            ]
          },
          "metadata": {},
          "execution_count": 5
        }
      ],
      "source": [
        "gesture_recog_train.describe()"
      ]
    },
    {
      "cell_type": "code",
      "execution_count": null,
      "id": "318738a7",
      "metadata": {
        "colab": {
          "base_uri": "https://localhost:8080/",
          "height": 394
        },
        "id": "318738a7",
        "outputId": "fb510d51-1523-4cb3-ac7d-fb20f80b37de"
      },
      "outputs": [
        {
          "output_type": "execute_result",
          "data": {
            "text/plain": [
              "             label       pixel1       pixel2       pixel3       pixel4  \\\n",
              "count  7172.000000  7172.000000  7172.000000  7172.000000  7172.000000   \n",
              "mean     11.247351   147.532627   150.445761   153.324317   155.663413   \n",
              "std       7.446712    43.593144    41.867838    40.442728    39.354776   \n",
              "min       0.000000     0.000000     0.000000     0.000000     0.000000   \n",
              "25%       4.000000   122.000000   126.000000   130.000000   134.000000   \n",
              "50%      11.000000   154.000000   157.000000   159.000000   161.000000   \n",
              "75%      18.000000   178.000000   179.000000   181.000000   182.000000   \n",
              "max      24.000000   255.000000   255.000000   255.000000   255.000000   \n",
              "\n",
              "            pixel5       pixel6       pixel7       pixel8       pixel9  ...  \\\n",
              "count  7172.000000  7172.000000  7172.000000  7172.000000  7172.000000  ...   \n",
              "mean    158.169688   160.790853   162.282766   163.649191   165.589515  ...   \n",
              "std      37.749637    36.090916    36.212636    35.885378    33.721876  ...   \n",
              "min       0.000000    10.000000     0.000000     0.000000     0.000000  ...   \n",
              "25%     137.000000   141.000000   144.000000   145.000000   147.000000  ...   \n",
              "50%     163.000000   165.000000   166.000000   168.000000   169.000000  ...   \n",
              "75%     184.000000   185.000000   186.000000   187.000000   187.000000  ...   \n",
              "max     255.000000   255.000000   255.000000   255.000000   255.000000  ...   \n",
              "\n",
              "          pixel775     pixel776     pixel777     pixel778     pixel779  \\\n",
              "count  7172.000000  7172.000000  7172.000000  7172.000000  7172.000000   \n",
              "mean    138.546570   145.539598   150.744980   155.638873   158.893196   \n",
              "std      64.501665    65.132370    65.760539    65.565147    65.200300   \n",
              "min       0.000000     0.000000     0.000000     0.000000     0.000000   \n",
              "25%      90.000000    95.000000    99.000000   105.000000   113.000000   \n",
              "50%     137.000000   155.000000   168.000000   177.000000   181.000000   \n",
              "75%     195.000000   200.000000   204.250000   207.000000   207.000000   \n",
              "max     255.000000   255.000000   255.000000   255.000000   255.000000   \n",
              "\n",
              "          pixel780     pixel781     pixel782     pixel783     pixel784  \n",
              "count  7172.000000  7172.000000  7172.000000  7172.000000  7172.000000  \n",
              "mean    159.648494   158.162019   157.672755   156.664250   154.776771  \n",
              "std      65.499368    66.493576    66.009690    67.202939    68.285148  \n",
              "min       0.000000     0.000000     0.000000     0.000000     0.000000  \n",
              "25%     113.750000   113.000000   115.000000   111.000000   106.750000  \n",
              "50%     182.000000   181.000000   180.000000   180.000000   179.000000  \n",
              "75%     208.000000   207.000000   205.000000   206.000000   204.000000  \n",
              "max     255.000000   255.000000   255.000000   255.000000   255.000000  \n",
              "\n",
              "[8 rows x 785 columns]"
            ],
            "text/html": [
              "\n",
              "  <div id=\"df-05e81cbd-a03d-48a9-9fd1-e5c159ae9aec\">\n",
              "    <div class=\"colab-df-container\">\n",
              "      <div>\n",
              "<style scoped>\n",
              "    .dataframe tbody tr th:only-of-type {\n",
              "        vertical-align: middle;\n",
              "    }\n",
              "\n",
              "    .dataframe tbody tr th {\n",
              "        vertical-align: top;\n",
              "    }\n",
              "\n",
              "    .dataframe thead th {\n",
              "        text-align: right;\n",
              "    }\n",
              "</style>\n",
              "<table border=\"1\" class=\"dataframe\">\n",
              "  <thead>\n",
              "    <tr style=\"text-align: right;\">\n",
              "      <th></th>\n",
              "      <th>label</th>\n",
              "      <th>pixel1</th>\n",
              "      <th>pixel2</th>\n",
              "      <th>pixel3</th>\n",
              "      <th>pixel4</th>\n",
              "      <th>pixel5</th>\n",
              "      <th>pixel6</th>\n",
              "      <th>pixel7</th>\n",
              "      <th>pixel8</th>\n",
              "      <th>pixel9</th>\n",
              "      <th>...</th>\n",
              "      <th>pixel775</th>\n",
              "      <th>pixel776</th>\n",
              "      <th>pixel777</th>\n",
              "      <th>pixel778</th>\n",
              "      <th>pixel779</th>\n",
              "      <th>pixel780</th>\n",
              "      <th>pixel781</th>\n",
              "      <th>pixel782</th>\n",
              "      <th>pixel783</th>\n",
              "      <th>pixel784</th>\n",
              "    </tr>\n",
              "  </thead>\n",
              "  <tbody>\n",
              "    <tr>\n",
              "      <th>count</th>\n",
              "      <td>7172.000000</td>\n",
              "      <td>7172.000000</td>\n",
              "      <td>7172.000000</td>\n",
              "      <td>7172.000000</td>\n",
              "      <td>7172.000000</td>\n",
              "      <td>7172.000000</td>\n",
              "      <td>7172.000000</td>\n",
              "      <td>7172.000000</td>\n",
              "      <td>7172.000000</td>\n",
              "      <td>7172.000000</td>\n",
              "      <td>...</td>\n",
              "      <td>7172.000000</td>\n",
              "      <td>7172.000000</td>\n",
              "      <td>7172.000000</td>\n",
              "      <td>7172.000000</td>\n",
              "      <td>7172.000000</td>\n",
              "      <td>7172.000000</td>\n",
              "      <td>7172.000000</td>\n",
              "      <td>7172.000000</td>\n",
              "      <td>7172.000000</td>\n",
              "      <td>7172.000000</td>\n",
              "    </tr>\n",
              "    <tr>\n",
              "      <th>mean</th>\n",
              "      <td>11.247351</td>\n",
              "      <td>147.532627</td>\n",
              "      <td>150.445761</td>\n",
              "      <td>153.324317</td>\n",
              "      <td>155.663413</td>\n",
              "      <td>158.169688</td>\n",
              "      <td>160.790853</td>\n",
              "      <td>162.282766</td>\n",
              "      <td>163.649191</td>\n",
              "      <td>165.589515</td>\n",
              "      <td>...</td>\n",
              "      <td>138.546570</td>\n",
              "      <td>145.539598</td>\n",
              "      <td>150.744980</td>\n",
              "      <td>155.638873</td>\n",
              "      <td>158.893196</td>\n",
              "      <td>159.648494</td>\n",
              "      <td>158.162019</td>\n",
              "      <td>157.672755</td>\n",
              "      <td>156.664250</td>\n",
              "      <td>154.776771</td>\n",
              "    </tr>\n",
              "    <tr>\n",
              "      <th>std</th>\n",
              "      <td>7.446712</td>\n",
              "      <td>43.593144</td>\n",
              "      <td>41.867838</td>\n",
              "      <td>40.442728</td>\n",
              "      <td>39.354776</td>\n",
              "      <td>37.749637</td>\n",
              "      <td>36.090916</td>\n",
              "      <td>36.212636</td>\n",
              "      <td>35.885378</td>\n",
              "      <td>33.721876</td>\n",
              "      <td>...</td>\n",
              "      <td>64.501665</td>\n",
              "      <td>65.132370</td>\n",
              "      <td>65.760539</td>\n",
              "      <td>65.565147</td>\n",
              "      <td>65.200300</td>\n",
              "      <td>65.499368</td>\n",
              "      <td>66.493576</td>\n",
              "      <td>66.009690</td>\n",
              "      <td>67.202939</td>\n",
              "      <td>68.285148</td>\n",
              "    </tr>\n",
              "    <tr>\n",
              "      <th>min</th>\n",
              "      <td>0.000000</td>\n",
              "      <td>0.000000</td>\n",
              "      <td>0.000000</td>\n",
              "      <td>0.000000</td>\n",
              "      <td>0.000000</td>\n",
              "      <td>0.000000</td>\n",
              "      <td>10.000000</td>\n",
              "      <td>0.000000</td>\n",
              "      <td>0.000000</td>\n",
              "      <td>0.000000</td>\n",
              "      <td>...</td>\n",
              "      <td>0.000000</td>\n",
              "      <td>0.000000</td>\n",
              "      <td>0.000000</td>\n",
              "      <td>0.000000</td>\n",
              "      <td>0.000000</td>\n",
              "      <td>0.000000</td>\n",
              "      <td>0.000000</td>\n",
              "      <td>0.000000</td>\n",
              "      <td>0.000000</td>\n",
              "      <td>0.000000</td>\n",
              "    </tr>\n",
              "    <tr>\n",
              "      <th>25%</th>\n",
              "      <td>4.000000</td>\n",
              "      <td>122.000000</td>\n",
              "      <td>126.000000</td>\n",
              "      <td>130.000000</td>\n",
              "      <td>134.000000</td>\n",
              "      <td>137.000000</td>\n",
              "      <td>141.000000</td>\n",
              "      <td>144.000000</td>\n",
              "      <td>145.000000</td>\n",
              "      <td>147.000000</td>\n",
              "      <td>...</td>\n",
              "      <td>90.000000</td>\n",
              "      <td>95.000000</td>\n",
              "      <td>99.000000</td>\n",
              "      <td>105.000000</td>\n",
              "      <td>113.000000</td>\n",
              "      <td>113.750000</td>\n",
              "      <td>113.000000</td>\n",
              "      <td>115.000000</td>\n",
              "      <td>111.000000</td>\n",
              "      <td>106.750000</td>\n",
              "    </tr>\n",
              "    <tr>\n",
              "      <th>50%</th>\n",
              "      <td>11.000000</td>\n",
              "      <td>154.000000</td>\n",
              "      <td>157.000000</td>\n",
              "      <td>159.000000</td>\n",
              "      <td>161.000000</td>\n",
              "      <td>163.000000</td>\n",
              "      <td>165.000000</td>\n",
              "      <td>166.000000</td>\n",
              "      <td>168.000000</td>\n",
              "      <td>169.000000</td>\n",
              "      <td>...</td>\n",
              "      <td>137.000000</td>\n",
              "      <td>155.000000</td>\n",
              "      <td>168.000000</td>\n",
              "      <td>177.000000</td>\n",
              "      <td>181.000000</td>\n",
              "      <td>182.000000</td>\n",
              "      <td>181.000000</td>\n",
              "      <td>180.000000</td>\n",
              "      <td>180.000000</td>\n",
              "      <td>179.000000</td>\n",
              "    </tr>\n",
              "    <tr>\n",
              "      <th>75%</th>\n",
              "      <td>18.000000</td>\n",
              "      <td>178.000000</td>\n",
              "      <td>179.000000</td>\n",
              "      <td>181.000000</td>\n",
              "      <td>182.000000</td>\n",
              "      <td>184.000000</td>\n",
              "      <td>185.000000</td>\n",
              "      <td>186.000000</td>\n",
              "      <td>187.000000</td>\n",
              "      <td>187.000000</td>\n",
              "      <td>...</td>\n",
              "      <td>195.000000</td>\n",
              "      <td>200.000000</td>\n",
              "      <td>204.250000</td>\n",
              "      <td>207.000000</td>\n",
              "      <td>207.000000</td>\n",
              "      <td>208.000000</td>\n",
              "      <td>207.000000</td>\n",
              "      <td>205.000000</td>\n",
              "      <td>206.000000</td>\n",
              "      <td>204.000000</td>\n",
              "    </tr>\n",
              "    <tr>\n",
              "      <th>max</th>\n",
              "      <td>24.000000</td>\n",
              "      <td>255.000000</td>\n",
              "      <td>255.000000</td>\n",
              "      <td>255.000000</td>\n",
              "      <td>255.000000</td>\n",
              "      <td>255.000000</td>\n",
              "      <td>255.000000</td>\n",
              "      <td>255.000000</td>\n",
              "      <td>255.000000</td>\n",
              "      <td>255.000000</td>\n",
              "      <td>...</td>\n",
              "      <td>255.000000</td>\n",
              "      <td>255.000000</td>\n",
              "      <td>255.000000</td>\n",
              "      <td>255.000000</td>\n",
              "      <td>255.000000</td>\n",
              "      <td>255.000000</td>\n",
              "      <td>255.000000</td>\n",
              "      <td>255.000000</td>\n",
              "      <td>255.000000</td>\n",
              "      <td>255.000000</td>\n",
              "    </tr>\n",
              "  </tbody>\n",
              "</table>\n",
              "<p>8 rows × 785 columns</p>\n",
              "</div>\n",
              "      <button class=\"colab-df-convert\" onclick=\"convertToInteractive('df-05e81cbd-a03d-48a9-9fd1-e5c159ae9aec')\"\n",
              "              title=\"Convert this dataframe to an interactive table.\"\n",
              "              style=\"display:none;\">\n",
              "        \n",
              "  <svg xmlns=\"http://www.w3.org/2000/svg\" height=\"24px\"viewBox=\"0 0 24 24\"\n",
              "       width=\"24px\">\n",
              "    <path d=\"M0 0h24v24H0V0z\" fill=\"none\"/>\n",
              "    <path d=\"M18.56 5.44l.94 2.06.94-2.06 2.06-.94-2.06-.94-.94-2.06-.94 2.06-2.06.94zm-11 1L8.5 8.5l.94-2.06 2.06-.94-2.06-.94L8.5 2.5l-.94 2.06-2.06.94zm10 10l.94 2.06.94-2.06 2.06-.94-2.06-.94-.94-2.06-.94 2.06-2.06.94z\"/><path d=\"M17.41 7.96l-1.37-1.37c-.4-.4-.92-.59-1.43-.59-.52 0-1.04.2-1.43.59L10.3 9.45l-7.72 7.72c-.78.78-.78 2.05 0 2.83L4 21.41c.39.39.9.59 1.41.59.51 0 1.02-.2 1.41-.59l7.78-7.78 2.81-2.81c.8-.78.8-2.07 0-2.86zM5.41 20L4 18.59l7.72-7.72 1.47 1.35L5.41 20z\"/>\n",
              "  </svg>\n",
              "      </button>\n",
              "      \n",
              "  <style>\n",
              "    .colab-df-container {\n",
              "      display:flex;\n",
              "      flex-wrap:wrap;\n",
              "      gap: 12px;\n",
              "    }\n",
              "\n",
              "    .colab-df-convert {\n",
              "      background-color: #E8F0FE;\n",
              "      border: none;\n",
              "      border-radius: 50%;\n",
              "      cursor: pointer;\n",
              "      display: none;\n",
              "      fill: #1967D2;\n",
              "      height: 32px;\n",
              "      padding: 0 0 0 0;\n",
              "      width: 32px;\n",
              "    }\n",
              "\n",
              "    .colab-df-convert:hover {\n",
              "      background-color: #E2EBFA;\n",
              "      box-shadow: 0px 1px 2px rgba(60, 64, 67, 0.3), 0px 1px 3px 1px rgba(60, 64, 67, 0.15);\n",
              "      fill: #174EA6;\n",
              "    }\n",
              "\n",
              "    [theme=dark] .colab-df-convert {\n",
              "      background-color: #3B4455;\n",
              "      fill: #D2E3FC;\n",
              "    }\n",
              "\n",
              "    [theme=dark] .colab-df-convert:hover {\n",
              "      background-color: #434B5C;\n",
              "      box-shadow: 0px 1px 3px 1px rgba(0, 0, 0, 0.15);\n",
              "      filter: drop-shadow(0px 1px 2px rgba(0, 0, 0, 0.3));\n",
              "      fill: #FFFFFF;\n",
              "    }\n",
              "  </style>\n",
              "\n",
              "      <script>\n",
              "        const buttonEl =\n",
              "          document.querySelector('#df-05e81cbd-a03d-48a9-9fd1-e5c159ae9aec button.colab-df-convert');\n",
              "        buttonEl.style.display =\n",
              "          google.colab.kernel.accessAllowed ? 'block' : 'none';\n",
              "\n",
              "        async function convertToInteractive(key) {\n",
              "          const element = document.querySelector('#df-05e81cbd-a03d-48a9-9fd1-e5c159ae9aec');\n",
              "          const dataTable =\n",
              "            await google.colab.kernel.invokeFunction('convertToInteractive',\n",
              "                                                     [key], {});\n",
              "          if (!dataTable) return;\n",
              "\n",
              "          const docLinkHtml = 'Like what you see? Visit the ' +\n",
              "            '<a target=\"_blank\" href=https://colab.research.google.com/notebooks/data_table.ipynb>data table notebook</a>'\n",
              "            + ' to learn more about interactive tables.';\n",
              "          element.innerHTML = '';\n",
              "          dataTable['output_type'] = 'display_data';\n",
              "          await google.colab.output.renderOutput(dataTable, element);\n",
              "          const docLink = document.createElement('div');\n",
              "          docLink.innerHTML = docLinkHtml;\n",
              "          element.appendChild(docLink);\n",
              "        }\n",
              "      </script>\n",
              "    </div>\n",
              "  </div>\n",
              "  "
            ]
          },
          "metadata": {},
          "execution_count": 6
        }
      ],
      "source": [
        "gesture_recog_test.describe()"
      ]
    },
    {
      "cell_type": "code",
      "execution_count": null,
      "id": "29d9e461",
      "metadata": {
        "colab": {
          "base_uri": "https://localhost:8080/"
        },
        "id": "29d9e461",
        "outputId": "e95216e0-9713-424f-8f78-f7817cfd4f96"
      },
      "outputs": [
        {
          "output_type": "stream",
          "name": "stdout",
          "text": [
            "<class 'pandas.core.frame.DataFrame'>\n",
            "RangeIndex: 27455 entries, 0 to 27454\n",
            "Columns: 785 entries, label to pixel784\n",
            "dtypes: int64(785)\n",
            "memory usage: 164.4 MB\n"
          ]
        }
      ],
      "source": [
        "gesture_recog_train.info()"
      ]
    },
    {
      "cell_type": "code",
      "execution_count": null,
      "id": "649f9200",
      "metadata": {
        "colab": {
          "base_uri": "https://localhost:8080/"
        },
        "id": "649f9200",
        "outputId": "1e893864-a8ac-49ff-dbf2-2490f864e70e"
      },
      "outputs": [
        {
          "output_type": "stream",
          "name": "stdout",
          "text": [
            "<class 'pandas.core.frame.DataFrame'>\n",
            "RangeIndex: 7172 entries, 0 to 7171\n",
            "Columns: 785 entries, label to pixel784\n",
            "dtypes: int64(785)\n",
            "memory usage: 43.0 MB\n"
          ]
        }
      ],
      "source": [
        "gesture_recog_test.info()"
      ]
    },
    {
      "cell_type": "code",
      "execution_count": null,
      "id": "ce2a2941",
      "metadata": {
        "colab": {
          "base_uri": "https://localhost:8080/"
        },
        "id": "ce2a2941",
        "outputId": "baa26a1b-8d5d-4959-b77e-5e710e635656"
      },
      "outputs": [
        {
          "output_type": "execute_result",
          "data": {
            "text/plain": [
              "label       0\n",
              "pixel1      0\n",
              "pixel2      0\n",
              "pixel3      0\n",
              "pixel4      0\n",
              "           ..\n",
              "pixel780    0\n",
              "pixel781    0\n",
              "pixel782    0\n",
              "pixel783    0\n",
              "pixel784    0\n",
              "Length: 785, dtype: int64"
            ]
          },
          "metadata": {},
          "execution_count": 9
        }
      ],
      "source": [
        "gesture_recog_train.isnull().sum()"
      ]
    },
    {
      "cell_type": "code",
      "execution_count": null,
      "id": "0e18ef9c",
      "metadata": {
        "colab": {
          "base_uri": "https://localhost:8080/"
        },
        "id": "0e18ef9c",
        "outputId": "4226410c-b445-49a4-b8c6-5ddb829506ee"
      },
      "outputs": [
        {
          "output_type": "execute_result",
          "data": {
            "text/plain": [
              "label       0\n",
              "pixel1      0\n",
              "pixel2      0\n",
              "pixel3      0\n",
              "pixel4      0\n",
              "           ..\n",
              "pixel780    0\n",
              "pixel781    0\n",
              "pixel782    0\n",
              "pixel783    0\n",
              "pixel784    0\n",
              "Length: 785, dtype: int64"
            ]
          },
          "metadata": {},
          "execution_count": 10
        }
      ],
      "source": [
        "gesture_recog_test.isnull().sum()"
      ]
    },
    {
      "cell_type": "code",
      "execution_count": null,
      "id": "1c5efc49",
      "metadata": {
        "colab": {
          "base_uri": "https://localhost:8080/",
          "height": 359
        },
        "id": "1c5efc49",
        "outputId": "9a95db3d-5814-4c6d-8a49-995b78f85fde"
      },
      "outputs": [
        {
          "output_type": "display_data",
          "data": {
            "text/plain": [
              "<Figure size 864x360 with 1 Axes>"
            ],
            "image/png": "[encoded data removed]"
          },
          "metadata": {}
        }
      ],
      "source": [
        "plt.style.use(\"ggplot\")\n",
        "plt.figure(figsize =(12,5))\n",
        "sns.countplot(x=gesture_recog_train['label'],data =gesture_recog_train,palette=\"icefire\")\n",
        "plt.title(\"Number of pictures of each category\", fontsize = 16)\n",
        "plt.xticks(fontsize = 14)\n",
        "plt.show()"
      ]
    },
    {
      "cell_type": "code",
      "execution_count": null,
      "id": "d403d371",
      "metadata": {
        "colab": {
          "base_uri": "https://localhost:8080/"
        },
        "id": "d403d371",
        "outputId": "45776763-e901-4624-8baa-9a9602a48303"
      },
      "outputs": [
        {
          "output_type": "stream",
          "name": "stdout",
          "text": [
            "X train values (27455, 784)\n",
            "X test values (7172, 784)\n",
            "training pictures after resizing (27455, 28, 28, 1)\n",
            "testing pictures after resizing (7172, 28, 28, 1)\n",
            "Y train labels (27455,)\n",
            "Y test  labels (7172,)\n"
          ]
        }
      ],
      "source": [
        "#Reshaping\n",
        "# In this section we will add another dimension to the data\n",
        "\n",
        "picture_Y_train=gesture_recog_train['label'].values\n",
        "picture_Y_test=gesture_recog_test['label'].values\n",
        "\n",
        "picture_X_train=gesture_recog_train.drop([\"label\"],axis=1).values\n",
        "picture_X_test=gesture_recog_test.drop([\"label\"],axis=1).values\n",
        "\n",
        "print(\"X train values\",picture_X_train.shape)\n",
        "print(\"X test values\",picture_X_test.shape)\n",
        "\n",
        "mnist_training_pictures = picture_X_train.reshape(-1,28,28,1)\n",
        "mnist_testing_pictures = picture_X_test.reshape(-1,28,28,1)\n",
        "\n",
        "print(\"training pictures after resizing\", mnist_training_pictures.shape)\n",
        "print(\"testing pictures after resizing\",mnist_testing_pictures.shape)\n",
        "print(\"Y train labels\",picture_Y_train.shape)\n",
        "print(\"Y test  labels\",picture_Y_test.shape)"
      ]
    },
    {
      "cell_type": "code",
      "execution_count": null,
      "id": "306057b6",
      "metadata": {
        "colab": {
          "base_uri": "https://localhost:8080/"
        },
        "id": "306057b6",
        "outputId": "e32f3878-a5ea-4269-837b-a70708abdb83"
      },
      "outputs": [
        {
          "output_type": "stream",
          "name": "stdout",
          "text": [
            "(27455, 28, 28, 1)\n",
            "(7172, 28, 28, 1)\n"
          ]
        }
      ],
      "source": [
        "#Normalizing\n",
        "mnist_training_pictures = mnist_training_pictures/255.0\n",
        "mnist_testing_pictures =mnist_testing_pictures/255.0\n",
        "print(mnist_training_pictures.shape)\n",
        "print(mnist_testing_pictures.shape)"
      ]
    },
    {
      "cell_type": "code",
      "execution_count": null,
      "id": "ac66d5b1",
      "metadata": {
        "colab": {
          "base_uri": "https://localhost:8080/",
          "height": 478
        },
        "id": "ac66d5b1",
        "outputId": "5fb2f57c-7c0b-4fc9-ce57-d83404657cf0"
      },
      "outputs": [
        {
          "output_type": "display_data",
          "data": {
            "text/plain": [
              "<Figure size 720x720 with 8 Axes>"
            ],
            "image/png": "[encoded data removed]"
          },
          "metadata": {}
        }
      ],
      "source": [
        "figure, axis = plt.subplots(2,4)\n",
        "figure.set_size_inches(10,10)\n",
        "n1= 0\n",
        "for i in range(2):\n",
        "    for j in range(4):\n",
        "        axis[i,j].set_xlabel(chr(picture_Y_test[n1] + 65))\n",
        "        axis[i,j].imshow(mnist_testing_pictures[n1].reshape(28,28)\n",
        "                       ,cmap='rocket')\n",
        "        n1+= 1\n",
        "    plt.tight_layout()"
      ]
    },
    {
      "cell_type": "code",
      "execution_count": null,
      "id": "ab4fc339",
      "metadata": {
        "colab": {
          "base_uri": "https://localhost:8080/"
        },
        "id": "ab4fc339",
        "outputId": "211d93da-f4a2-4ab6-d051-cfde5f95f860"
      },
      "outputs": [
        {
          "output_type": "stream",
          "name": "stdout",
          "text": [
            "[[0 0 0 ... 0 0 0]\n",
            " [0 0 0 ... 0 0 0]\n",
            " [0 0 1 ... 0 0 0]\n",
            " ...\n",
            " [0 0 0 ... 0 0 0]\n",
            " [0 0 0 ... 0 0 0]\n",
            " [0 0 0 ... 0 1 0]]\n",
            "initial picture label after encoding:  [0 0 0 1 0 0 0 0 0 0 0 0 0 0 0 0 0 0 0 0 0 0 0 0]\n"
          ]
        }
      ],
      "source": [
        "#Label Encoding\n",
        "from sklearn.preprocessing import LabelBinarizer\n",
        "binar1=LabelBinarizer()\n",
        "picture_Y_train=binar1.fit_transform(picture_Y_train)\n",
        "picture_Y_test=binar1.fit_transform(picture_Y_test)\n",
        "print(picture_Y_train)\n",
        "print('initial picture label after encoding: ',picture_Y_train[0])"
      ]
    },
    {
      "cell_type": "code",
      "execution_count": null,
      "id": "8f92ed33",
      "metadata": {
        "colab": {
          "base_uri": "https://localhost:8080/"
        },
        "id": "8f92ed33",
        "outputId": "07c24b07-9c61-42ac-dd44-1a8344682fad"
      },
      "outputs": [
        {
          "output_type": "execute_result",
          "data": {
            "text/plain": [
              "array([ 0,  1,  2,  3,  4,  5,  6,  7,  8, 10, 11, 12, 13, 14, 15, 16, 17,\n",
              "       18, 19, 20, 21, 22, 23, 24])"
            ]
          },
          "metadata": {},
          "execution_count": 16
        }
      ],
      "source": [
        "#Using unique to find out different numeric intrepretation of symbols\n",
        "label_uni= gesture_recog_train.label.values\n",
        "label_value = np.array(label_uni)\n",
        "np.unique(label_value)"
      ]
    },
    {
      "cell_type": "code",
      "execution_count": null,
      "id": "868bc05d",
      "metadata": {
        "colab": {
          "base_uri": "https://localhost:8080/",
          "height": 657
        },
        "id": "868bc05d",
        "outputId": "b37cc57f-79ee-4092-fd28-82c120409488"
      },
      "outputs": [
        {
          "output_type": "display_data",
          "data": {
            "text/plain": [
              "<Figure size 648x648 with 4 Axes>"
            ],
            "image/png": "[encoded data removed]"
          },
          "metadata": {}
        }
      ],
      "source": [
        "#Data Visualization\n",
        "fig,axe=plt.subplots(2,2)\n",
        "fig.suptitle('Preview of the dataset')\n",
        "fig.set_size_inches(9,9)\n",
        "\n",
        "\n",
        "axe[0,0].imshow(mnist_training_pictures[0].reshape(28,28),cmap='rocket')\n",
        "axe[0,0].set_title('label: 3  letter: D')\n",
        "\n",
        "\n",
        "axe[0,1].imshow(mnist_training_pictures[1].reshape(28,28),cmap='rocket')\n",
        "axe[0,1].set_title('label: 6  letter: G')\n",
        "\n",
        "axe[1,0].imshow(mnist_training_pictures[2].reshape(28,28),cmap='rocket')\n",
        "axe[1,0].set_title('label: 2  letter: C')\n",
        "\n",
        "\n",
        "axe[1,1].imshow(mnist_training_pictures[4].reshape(28,28),cmap='rocket')\n",
        "axe[1,1].set_title('label: 11  letter: M')\n",
        "\n",
        "\n",
        "plt.tight_layout()\n"
      ]
    },
    {
      "cell_type": "code",
      "execution_count": null,
      "id": "652698ee",
      "metadata": {
        "id": "652698ee"
      },
      "outputs": [],
      "source": [
        "#Data Augmentation\n",
        "#Now create Image generator object for train images \n",
        "picture_generation= ImageDataGenerator(rotation_range = 0,\n",
        "                                  height_shift_range=0.2,\n",
        "                                  width_shift_range=0.2,\n",
        "                                  shear_range=0.2,\n",
        "                                  zoom_range=0.2,\n",
        "                                  horizontal_flip=True,\n",
        "                                  fill_mode='nearest')\n"
      ]
    },
    {
      "cell_type": "code",
      "execution_count": null,
      "id": "3feeb219",
      "metadata": {
        "id": "3feeb219"
      },
      "outputs": [],
      "source": [
        "#for validation data \n",
        "validation_picturegenerator = ImageDataGenerator()"
      ]
    },
    {
      "cell_type": "code",
      "execution_count": null,
      "id": "b10fa37b",
      "metadata": {
        "colab": {
          "base_uri": "https://localhost:8080/"
        },
        "id": "b10fa37b",
        "outputId": "fbd8d82d-da04-47da-84a9-0b6853a6a804"
      },
      "outputs": [
        {
          "output_type": "stream",
          "name": "stdout",
          "text": [
            "(27455, 28, 28, 1)\n",
            "(7172, 28, 28, 1)\n"
          ]
        }
      ],
      "source": [
        "print(mnist_training_pictures.shape)\n",
        "print(mnist_testing_pictures.shape)"
      ]
    },
    {
      "cell_type": "code",
      "execution_count": null,
      "id": "aa66ea8e",
      "metadata": {
        "id": "aa66ea8e"
      },
      "outputs": [],
      "source": [
        "#Convolutional NeuralNetwork\n",
        "model=Sequential()\n",
        "model.add(Conv2D(filters=128,kernel_size=(5,5),\n",
        "                 strides=1,padding='same',activation='relu',input_shape=(28,28,1)))\n",
        "\n",
        "model.add(MaxPool2D(pool_size=(3,3),strides=1,padding='same'))\n",
        "\n",
        "model.add(Conv2D(filters=64,kernel_size=(2,2),\n",
        "                strides=1,activation='relu',padding='same'))\n",
        "model.add(MaxPool2D((2,2),strides=2,padding='same'))\n",
        "\n",
        "model.add(Conv2D(filters=32,kernel_size=(2,2),\n",
        "                strides=1,activation='relu',padding='same'))\n",
        "model.add(MaxPool2D((2,2),strides=2,padding='same'))\n",
        "          \n",
        "model.add(Flatten())"
      ]
    },
    {
      "cell_type": "code",
      "execution_count": null,
      "id": "9c0cb7a2",
      "metadata": {
        "id": "9c0cb7a2"
      },
      "outputs": [],
      "source": [
        "model.add(Dense(units=512,activation='relu'))\n",
        "model.add(Dropout(0.2))\n",
        "model.add(Dense(units=24,activation='softmax'))"
      ]
    },
    {
      "cell_type": "code",
      "execution_count": null,
      "id": "94f3c9ab",
      "metadata": {
        "colab": {
          "base_uri": "https://localhost:8080/"
        },
        "id": "94f3c9ab",
        "outputId": "0b741a8a-9489-49d0-cb6f-b8bc68487cb0"
      },
      "outputs": [
        {
          "output_type": "stream",
          "name": "stdout",
          "text": [
            "Model: \"sequential\"\n",
            "_________________________________________________________________\n",
            " Layer (type)                Output Shape              Param #   \n",
            "=================================================================\n",
            " conv2d (Conv2D)             (None, 28, 28, 128)       3328      \n",
            "                                                                 \n",
            " max_pooling2d (MaxPooling2D  (None, 28, 28, 128)      0         \n",
            " )                                                               \n",
            "                                                                 \n",
            " conv2d_1 (Conv2D)           (None, 28, 28, 64)        32832     \n",
            "                                                                 \n",
            " max_pooling2d_1 (MaxPooling  (None, 14, 14, 64)       0         \n",
            " 2D)                                                             \n",
            "                                                                 \n",
            " conv2d_2 (Conv2D)           (None, 14, 14, 32)        8224      \n",
            "                                                                 \n",
            " max_pooling2d_2 (MaxPooling  (None, 7, 7, 32)         0         \n",
            " 2D)                                                             \n",
            "                                                                 \n",
            " flatten (Flatten)           (None, 1568)              0         \n",
            "                                                                 \n",
            " dense (Dense)               (None, 512)               803328    \n",
            "                                                                 \n",
            " dropout (Dropout)           (None, 512)               0         \n",
            "                                                                 \n",
            " dense_1 (Dense)             (None, 24)                12312     \n",
            "                                                                 \n",
            "=================================================================\n",
            "Total params: 860,024\n",
            "Trainable params: 860,024\n",
            "Non-trainable params: 0\n",
            "_________________________________________________________________\n"
          ]
        }
      ],
      "source": [
        "model.compile(optimizer='adam',loss='categorical_crossentropy',metrics=['accuracy'])\n",
        "model.summary()"
      ]
    },
    {
      "cell_type": "code",
      "execution_count": null,
      "id": "95289eb0",
      "metadata": {
        "colab": {
          "base_uri": "https://localhost:8080/"
        },
        "id": "95289eb0",
        "outputId": "2855d793-f131-471d-a46e-bc33686c67f4"
      },
      "outputs": [
        {
          "output_type": "stream",
          "name": "stdout",
          "text": [
            "Epoch 1/10\n",
            "138/138 [==============================] - 257s 2s/step - loss: 2.9555 - accuracy: 0.1179 - val_loss: 1.9552 - val_accuracy: 0.4037\n",
            "Epoch 2/10\n",
            "138/138 [==============================] - 262s 2s/step - loss: 2.0371 - accuracy: 0.3580 - val_loss: 1.1508 - val_accuracy: 0.6327\n",
            "Epoch 3/10\n",
            "138/138 [==============================] - 263s 2s/step - loss: 1.4309 - accuracy: 0.5338 - val_loss: 0.8965 - val_accuracy: 0.6834\n",
            "Epoch 4/10\n",
            "138/138 [==============================] - 262s 2s/step - loss: 1.0917 - accuracy: 0.6376 - val_loss: 0.8377 - val_accuracy: 0.6955\n",
            "Epoch 5/10\n",
            "138/138 [==============================] - 275s 2s/step - loss: 0.8766 - accuracy: 0.7038 - val_loss: 0.4903 - val_accuracy: 0.8338\n",
            "Epoch 6/10\n",
            "138/138 [==============================] - 266s 2s/step - loss: 0.7301 - accuracy: 0.7529 - val_loss: 0.6005 - val_accuracy: 0.7939\n",
            "Epoch 7/10\n",
            "138/138 [==============================] - 264s 2s/step - loss: 0.6132 - accuracy: 0.7960 - val_loss: 0.2576 - val_accuracy: 0.9198\n",
            "Epoch 8/10\n",
            "138/138 [==============================] - 263s 2s/step - loss: 0.5251 - accuracy: 0.8232 - val_loss: 0.2571 - val_accuracy: 0.9105\n",
            "Epoch 9/10\n",
            "138/138 [==============================] - 264s 2s/step - loss: 0.4693 - accuracy: 0.8429 - val_loss: 0.1789 - val_accuracy: 0.9446\n",
            "Epoch 10/10\n",
            "138/138 [==============================] - 277s 2s/step - loss: 0.4024 - accuracy: 0.8651 - val_loss: 0.1858 - val_accuracy: 0.9490\n"
          ]
        }
      ],
      "source": [
        "# Train the Model\n",
        "history = model.fit(picture_generation.flow(mnist_training_pictures,picture_Y_train, batch_size=200),\n",
        "                              epochs=10,\n",
        "                              validation_data=(mnist_testing_pictures,picture_Y_test),\n",
        "                               shuffle=1)\n"
      ]
    },
    {
      "cell_type": "code",
      "execution_count": null,
      "id": "e7c6ba16",
      "metadata": {
        "colab": {
          "base_uri": "https://localhost:8080/"
        },
        "id": "e7c6ba16",
        "outputId": "f15c83e6-b826-417a-82c0-e53d7b3dc904"
      },
      "outputs": [
        {
          "output_type": "stream",
          "name": "stdout",
          "text": [
            "225/225 [==============================] - 13s 58ms/step - loss: 0.1858 - accuracy: 0.9490\n"
          ]
        }
      ],
      "source": [
        "(ls,acc)=model.evaluate(mnist_testing_pictures, picture_Y_test)"
      ]
    },
    {
      "cell_type": "code",
      "execution_count": null,
      "id": "92b0bec9",
      "metadata": {
        "colab": {
          "base_uri": "https://localhost:8080/"
        },
        "id": "92b0bec9",
        "outputId": "fa161bbb-b0f4-4df5-f6c5-27613b47dd2c"
      },
      "outputs": [
        {
          "output_type": "stream",
          "name": "stdout",
          "text": [
            "Convolutional Neural Network MODEL ACCURACY = 94.8968231678009%\n"
          ]
        }
      ],
      "source": [
        "print('Convolutional Neural Network MODEL ACCURACY = {}%'.format(acc*100))"
      ]
    },
    {
      "cell_type": "code",
      "execution_count": null,
      "id": "c08fb64f",
      "metadata": {
        "id": "c08fb64f"
      },
      "outputs": [],
      "source": [
        "y_pred = model.predict(mnist_testing_pictures)"
      ]
    },
    {
      "cell_type": "code",
      "execution_count": null,
      "id": "7e992141",
      "metadata": {
        "colab": {
          "base_uri": "https://localhost:8080/",
          "height": 554
        },
        "id": "7e992141",
        "outputId": "bcd5edbc-1789-4e0b-e93f-f89af5172d56"
      },
      "outputs": [
        {
          "output_type": "display_data",
          "data": {
            "text/plain": [
              "<Figure size 648x648 with 1 Axes>"
            ],
            "image/png": "[encoded data removed]"
          },
          "metadata": {}
        }
      ],
      "source": [
        "from mlxtend.plotting import plot_confusion_matrix\n",
        "conf_mat = confusion_matrix(picture_Y_test.argmax(axis=1), y_pred.argmax(axis=1))\n",
        "\n",
        "fig, ax = plot_confusion_matrix(conf_mat=conf_mat,\n",
        "                                show_normed=False,\n",
        "                                show_absolute=True,\n",
        "                                figsize=(9, 9))\n",
        "fig.show()"
      ]
    },
    {
      "cell_type": "code",
      "execution_count": null,
      "id": "8c5296c9",
      "metadata": {
        "colab": {
          "base_uri": "https://localhost:8080/",
          "height": 400
        },
        "id": "8c5296c9",
        "outputId": "b341cb93-3c86-4218-ff77-2b1969b2aa74"
      },
      "outputs": [
        {
          "output_type": "display_data",
          "data": {
            "text/plain": [
              "<Figure size 1296x504 with 2 Axes>"
            ],
            "image/png": "[encoded data removed]"
          },
          "metadata": {}
        }
      ],
      "source": [
        "fig, axs = plt.subplots(1, 2, figsize=(18, 7))\n",
        "plt.subplot(1, 2, 1)\n",
        "axs = axs.ravel()\n",
        "loss = history.history['loss']\n",
        "loss_val = history.history['val_loss']\n",
        "epochs = range(1, len(loss)+1)\n",
        "axs[0].plot(epochs, loss, 'b', label='loss_train',linewidth=3)\n",
        "axs[0].plot(epochs, loss_val, 'r', label='loss_val',linewidth=3)\n",
        "axs[0].set_title('Test accuracy loss')\n",
        "\n",
        "axs[0].set_ylabel('Test accuracy loss ')\n",
        "axs[0].legend()\n",
        "axs[0].grid()\n",
        "acc = history.history['accuracy']\n",
        "acc_val = history.history['val_accuracy']\n",
        "axs[1].plot(epochs, acc, 'b', label='accuracy_train',linewidth=3)\n",
        "axs[1].plot(epochs, acc_val, 'r', label='accuracy_val',linewidth=3)\n",
        "axs[1].set_title('Accuracy')\n",
        "\n",
        "axs[1].set_ylabel('Test accuracy')\n",
        "axs[1].legend()\n",
        "axs[1].grid()\n",
        "plt.show()"
      ]
    },
    {
      "cell_type": "code",
      "execution_count": null,
      "id": "25d5e424",
      "metadata": {
        "id": "25d5e424"
      },
      "outputs": [],
      "source": [
        "#Preparing The Data\n",
        "picture_Y_train = gesture_recog_train['label'].values\n",
        "picture_X_train = gesture_recog_train.drop(columns = 'label')\n",
        "\n",
        "#Normalization\n",
        "picture_X_train= picture_X_train/255.0\n",
        "\n",
        "#scaling the features\n",
        "from sklearn.preprocessing import scale\n",
        "picture_X_train= scale(picture_X_train)\n",
        "\n",
        "picture_Y_test=gesture_recog_test['label']\n",
        "\n",
        "picture_X_test=gesture_recog_test.drop(columns = 'label')\n",
        "\n",
        "picture_X_test= picture_X_test/255.0\n",
        "\n",
        "picture_X_test= scale(picture_X_test)"
      ]
    },
    {
      "cell_type": "code",
      "execution_count": null,
      "id": "339485f7",
      "metadata": {
        "colab": {
          "base_uri": "https://localhost:8080/"
        },
        "id": "339485f7",
        "outputId": "c8053091-e89e-47e2-b4fe-bae2ca717871"
      },
      "outputs": [
        {
          "output_type": "stream",
          "name": "stdout",
          "text": [
            "X train values (27455, 784)\n",
            "X test values (7172, 784)\n",
            "training pictures after resizing (27455, 28, 28, 1)\n",
            "testing pictures after resizing (7172, 28, 28, 1)\n",
            "Y train labels (27455,)\n",
            "Y test  labels (7172,)\n"
          ]
        }
      ],
      "source": [
        "#Reshaping\n",
        "# In this section we will add another dimension to the data\n",
        "\n",
        "picture_Y_train=gesture_recog_train['label'].values\n",
        "picture_Y_test=gesture_recog_test['label'].values\n",
        "\n",
        "picture_X_train=gesture_recog_train.drop([\"label\"],axis=1).values\n",
        "picture_X_test=gesture_recog_test.drop([\"label\"],axis=1).values\n",
        "\n",
        "print(\"X train values\",picture_X_train.shape)\n",
        "print(\"X test values\",picture_X_test.shape)\n",
        "\n",
        "mnist_training_pictures = picture_X_train.reshape(-1,28,28,1)\n",
        "mnist_testing_pictures = picture_X_test.reshape(-1,28,28,1)\n",
        "\n",
        "print(\"training pictures after resizing\", mnist_training_pictures.shape)\n",
        "print(\"testing pictures after resizing\",mnist_testing_pictures.shape)\n",
        "print(\"Y train labels\",picture_Y_train.shape)\n",
        "print(\"Y test  labels\",picture_Y_test.shape)"
      ]
    },
    {
      "cell_type": "code",
      "execution_count": null,
      "id": "3a495830",
      "metadata": {
        "id": "3a495830"
      },
      "outputs": [],
      "source": [
        "from sklearn.model_selection import train_test_split\n",
        "x_train, x_test, y_train, y_test= train_test_split(picture_X_test,picture_Y_test, test_size = 0.2, random_state=0)"
      ]
    },
    {
      "cell_type": "markdown",
      "id": "6f1c60f9",
      "metadata": {
        "id": "6f1c60f9"
      },
      "source": [
        "Artificial Neural Network"
      ]
    },
    {
      "cell_type": "code",
      "execution_count": null,
      "id": "45ef6082",
      "metadata": {
        "colab": {
          "base_uri": "https://localhost:8080/"
        },
        "id": "45ef6082",
        "outputId": "2adf30d6-813a-4d29-d136-b115da890365"
      },
      "outputs": [
        {
          "output_type": "stream",
          "name": "stdout",
          "text": [
            "Model: \"sequential\"\n",
            "_________________________________________________________________\n",
            " Layer (type)                Output Shape              Param #   \n",
            "=================================================================\n",
            " conv2d (Conv2D)             (None, 28, 28, 128)       3328      \n",
            "                                                                 \n",
            " max_pooling2d (MaxPooling2D  (None, 28, 28, 128)      0         \n",
            " )                                                               \n",
            "                                                                 \n",
            " conv2d_1 (Conv2D)           (None, 28, 28, 64)        32832     \n",
            "                                                                 \n",
            " max_pooling2d_1 (MaxPooling  (None, 14, 14, 64)       0         \n",
            " 2D)                                                             \n",
            "                                                                 \n",
            " conv2d_2 (Conv2D)           (None, 14, 14, 32)        8224      \n",
            "                                                                 \n",
            " max_pooling2d_2 (MaxPooling  (None, 7, 7, 32)         0         \n",
            " 2D)                                                             \n",
            "                                                                 \n",
            " flatten (Flatten)           (None, 1568)              0         \n",
            "                                                                 \n",
            " dense (Dense)               (None, 512)               803328    \n",
            "                                                                 \n",
            " dropout (Dropout)           (None, 512)               0         \n",
            "                                                                 \n",
            " dense_1 (Dense)             (None, 24)                12312     \n",
            "                                                                 \n",
            "=================================================================\n",
            "Total params: 860,024\n",
            "Trainable params: 860,024\n",
            "Non-trainable params: 0\n",
            "_________________________________________________________________\n"
          ]
        }
      ],
      "source": [
        "import keras\n",
        "from keras.wrappers.scikit_learn import KerasClassifier\n",
        "from sklearn.model_selection import cross_val_score\n",
        "from keras.models import Sequential\n",
        "from keras.layers import Dense, Dropout\n",
        "def build_classifier():\n",
        "    classifier = Sequential() \n",
        "    classifier.add(Dense(units = 8,  activation = 'relu', input_dim= x_train.shape[1]))\n",
        "    classifier.add(Dense(units = 4, activation = 'relu'))\n",
        "    classifier.add(Dense(units = 1,  activation = 'sigmoid'))\n",
        "    classifier.compile(optimizer = 'adam', loss = 'binary_crossentropy', metrics = ['accuracy'])\n",
        "    return classifier\n",
        "model.summary()"
      ]
    },
    {
      "cell_type": "code",
      "execution_count": null,
      "id": "4394cb16",
      "metadata": {
        "colab": {
          "base_uri": "https://localhost:8080/"
        },
        "id": "4394cb16",
        "outputId": "2875af60-4c5d-46cb-95c4-747ac1aeace4"
      },
      "outputs": [
        {
          "output_type": "stream",
          "name": "stdout",
          "text": [
            "Epoch 1/10\n",
            "120/120 [==============================] - 1s 2ms/step - loss: -66996.8359 - accuracy: 0.0635\n",
            "Epoch 2/10\n",
            "120/120 [==============================] - 0s 3ms/step - loss: -422834.9062 - accuracy: 0.0635\n",
            "Epoch 3/10\n",
            "120/120 [==============================] - 0s 2ms/step - loss: -1331189.0000 - accuracy: 0.0635\n",
            "Epoch 4/10\n",
            "120/120 [==============================] - 0s 2ms/step - loss: -3069578.0000 - accuracy: 0.0635\n",
            "Epoch 5/10\n",
            "120/120 [==============================] - 0s 2ms/step - loss: -5898160.5000 - accuracy: 0.0635\n",
            "Epoch 6/10\n",
            "120/120 [==============================] - 0s 2ms/step - loss: -10040068.0000 - accuracy: 0.0635\n",
            "Epoch 7/10\n",
            "120/120 [==============================] - 0s 2ms/step - loss: -15694604.0000 - accuracy: 0.0635\n",
            "Epoch 8/10\n",
            "120/120 [==============================] - 0s 2ms/step - loss: -23050632.0000 - accuracy: 0.0635\n",
            "Epoch 9/10\n",
            "120/120 [==============================] - 0s 2ms/step - loss: -32272028.0000 - accuracy: 0.0635\n",
            "Epoch 10/10\n",
            "120/120 [==============================] - 0s 2ms/step - loss: -43467980.0000 - accuracy: 0.0635\n",
            "60/60 [==============================] - 0s 2ms/step - loss: -50206892.0000 - accuracy: 0.0596\n",
            "Epoch 1/10\n",
            "120/120 [==============================] - 1s 2ms/step - loss: -49173.9102 - accuracy: 0.0607\n",
            "Epoch 2/10\n",
            "120/120 [==============================] - 0s 2ms/step - loss: -285271.4688 - accuracy: 0.0609\n",
            "Epoch 3/10\n",
            "120/120 [==============================] - 0s 2ms/step - loss: -865045.5000 - accuracy: 0.0609\n",
            "Epoch 4/10\n",
            "120/120 [==============================] - 0s 3ms/step - loss: -1972861.1250 - accuracy: 0.0609\n",
            "Epoch 5/10\n",
            "120/120 [==============================] - 0s 2ms/step - loss: -3781523.7500 - accuracy: 0.0609\n",
            "Epoch 6/10\n",
            "120/120 [==============================] - 0s 2ms/step - loss: -6467921.0000 - accuracy: 0.0609\n",
            "Epoch 7/10\n",
            "120/120 [==============================] - 0s 2ms/step - loss: -10154348.0000 - accuracy: 0.0609\n",
            "Epoch 8/10\n",
            "120/120 [==============================] - 0s 2ms/step - loss: -14977374.0000 - accuracy: 0.0609\n",
            "Epoch 9/10\n",
            "120/120 [==============================] - 0s 2ms/step - loss: -21021056.0000 - accuracy: 0.0609\n",
            "Epoch 10/10\n",
            "120/120 [==============================] - 0s 2ms/step - loss: -28378904.0000 - accuracy: 0.0609\n",
            "60/60 [==============================] - 0s 1ms/step - loss: -32628288.0000 - accuracy: 0.0649\n",
            "Epoch 1/10\n",
            "120/120 [==============================] - 1s 2ms/step - loss: -273417.6562 - accuracy: 0.0622\n",
            "Epoch 2/10\n",
            "120/120 [==============================] - 0s 2ms/step - loss: -1709987.3750 - accuracy: 0.0622\n",
            "Epoch 3/10\n",
            "120/120 [==============================] - 0s 2ms/step - loss: -5361003.5000 - accuracy: 0.0622\n",
            "Epoch 4/10\n",
            "120/120 [==============================] - 0s 2ms/step - loss: -12380124.0000 - accuracy: 0.0622\n",
            "Epoch 5/10\n",
            "120/120 [==============================] - 0s 2ms/step - loss: -23795734.0000 - accuracy: 0.0622\n",
            "Epoch 6/10\n",
            "120/120 [==============================] - 0s 2ms/step - loss: -40558156.0000 - accuracy: 0.0622\n",
            "Epoch 7/10\n",
            "120/120 [==============================] - 0s 2ms/step - loss: -63484360.0000 - accuracy: 0.0622\n",
            "Epoch 8/10\n",
            "120/120 [==============================] - 0s 2ms/step - loss: -93179688.0000 - accuracy: 0.0622\n",
            "Epoch 9/10\n",
            "120/120 [==============================] - 0s 2ms/step - loss: -130387120.0000 - accuracy: 0.0622\n",
            "Epoch 10/10\n",
            "120/120 [==============================] - 0s 2ms/step - loss: -175679392.0000 - accuracy: 0.0622\n",
            "60/60 [==============================] - 0s 1ms/step - loss: -199843776.0000 - accuracy: 0.0622\n"
          ]
        }
      ],
      "source": [
        "classifier = KerasClassifier(build_fn = build_classifier, epochs = 10)\n",
        "accuracies = cross_val_score(estimator = classifier, X = x_train, y = y_train, cv = 3)\n"
      ]
    },
    {
      "cell_type": "code",
      "execution_count": null,
      "id": "417a8d34",
      "metadata": {
        "colab": {
          "base_uri": "https://localhost:8080/"
        },
        "id": "417a8d34",
        "outputId": "4252e068-cf9e-4204-bdd0-6a207caa827d"
      },
      "outputs": [
        {
          "output_type": "stream",
          "name": "stdout",
          "text": [
            "Evaluation on test data : \n",
            "Test Accuracy mean: 62.228103478749595\n"
          ]
        }
      ],
      "source": [
        "print(\"Evaluation on test data : \")\n",
        "mean = accuracies.mean()*1000\n",
        "print(\"Test Accuracy mean: \" + str(mean))"
      ]
    },
    {
      "cell_type": "markdown",
      "id": "09fd204c",
      "metadata": {
        "id": "09fd204c"
      },
      "source": [
        "Autoencoder"
      ]
    },
    {
      "cell_type": "code",
      "execution_count": null,
      "id": "3dc7add5",
      "metadata": {
        "id": "3dc7add5"
      },
      "outputs": [],
      "source": [
        "#Autoencoder\n",
        "import tensorflow as tf\n",
        "input_img = tf.keras.layers.Input(shape=(784,), name = \"input\")\n",
        "\n",
        "# this is the encoded representation of the input\n",
        "encoded = Dense(1024, activation='relu', name=\"emb_0\")(input_img)\n",
        "encoded = Dense(512, activation='relu', name=\"emb_1\")(encoded)\n",
        "encoded = Dense(256, activation='relu', name=\"emb_2\")(encoded)\n",
        "encoded = Dense(128, activation='relu', name=\"emb_3\")(encoded)\n",
        "encoded = Dense(64, activation='relu', name=\"emb_4\")(encoded)\n",
        "encoded = Dense(16, activation='relu', name=\"emb_5\")(encoded)\n",
        "latent_vector = Dense(2, activation='relu', name=\"latent_vector\")(encoded)"
      ]
    },
    {
      "cell_type": "code",
      "execution_count": null,
      "id": "17fb9199",
      "metadata": {
        "id": "17fb9199"
      },
      "outputs": [],
      "source": [
        "# this is the loss reconstruction of the input\n",
        "decoded = Dense(16, activation='relu', name=\"dec_1\")(latent_vector)\n",
        "decoded = Dense(64, activation='relu', name=\"dec_3\")(decoded)\n",
        "decoded = Dense(128, activation='relu', name=\"dec_4\")(decoded)\n",
        "decoded = Dense(256, activation='relu', name=\"dec_5\")(decoded)\n",
        "decoded = Dense(512, activation='relu', name=\"dec_6\")(decoded)\n",
        "decoded = Dense(1024, activation='relu', name=\"dec_7\")(decoded)\n",
        "\n",
        "output_layer = Dense(784, activation = 'sigmoid', name=\"output\")(decoded)"
      ]
    },
    {
      "cell_type": "code",
      "execution_count": null,
      "id": "23366218",
      "metadata": {
        "id": "23366218"
      },
      "outputs": [],
      "source": [
        "autoencoder = tf.keras.models.Model(input_img, output_layer)"
      ]
    },
    {
      "cell_type": "code",
      "execution_count": null,
      "id": "03812f99",
      "metadata": {
        "colab": {
          "base_uri": "https://localhost:8080/"
        },
        "id": "03812f99",
        "outputId": "3afd2975-546f-4006-b04f-f09a9cdbe27c"
      },
      "outputs": [
        {
          "output_type": "stream",
          "name": "stdout",
          "text": [
            "Model: \"model\"\n",
            "_________________________________________________________________\n",
            " Layer (type)                Output Shape              Param #   \n",
            "=================================================================\n",
            " input (InputLayer)          [(None, 784)]             0         \n",
            "                                                                 \n",
            " emb_0 (Dense)               (None, 1024)              803840    \n",
            "                                                                 \n",
            " emb_1 (Dense)               (None, 512)               524800    \n",
            "                                                                 \n",
            " emb_2 (Dense)               (None, 256)               131328    \n",
            "                                                                 \n",
            " emb_3 (Dense)               (None, 128)               32896     \n",
            "                                                                 \n",
            " emb_4 (Dense)               (None, 64)                8256      \n",
            "                                                                 \n",
            " emb_5 (Dense)               (None, 16)                1040      \n",
            "                                                                 \n",
            " latent_vector (Dense)       (None, 2)                 34        \n",
            "                                                                 \n",
            " dec_1 (Dense)               (None, 16)                48        \n",
            "                                                                 \n",
            " dec_3 (Dense)               (None, 64)                1088      \n",
            "                                                                 \n",
            " dec_4 (Dense)               (None, 128)               8320      \n",
            "                                                                 \n",
            " dec_5 (Dense)               (None, 256)               33024     \n",
            "                                                                 \n",
            " dec_6 (Dense)               (None, 512)               131584    \n",
            "                                                                 \n",
            " dec_7 (Dense)               (None, 1024)              525312    \n",
            "                                                                 \n",
            " output (Dense)              (None, 784)               803600    \n",
            "                                                                 \n",
            "=================================================================\n",
            "Total params: 3,005,170\n",
            "Trainable params: 3,005,170\n",
            "Non-trainable params: 0\n",
            "_________________________________________________________________\n"
          ]
        }
      ],
      "source": [
        "autoencoder.summary()"
      ]
    },
    {
      "cell_type": "code",
      "execution_count": null,
      "id": "232b8eac",
      "metadata": {
        "colab": {
          "base_uri": "https://localhost:8080/"
        },
        "id": "232b8eac",
        "outputId": "2f86ebe1-de4a-40fd-8feb-9969d99db6a2"
      },
      "outputs": [
        {
          "output_type": "stream",
          "name": "stdout",
          "text": [
            "Model: \"model_1\"\n",
            "_________________________________________________________________\n",
            " Layer (type)                Output Shape              Param #   \n",
            "=================================================================\n",
            " input (InputLayer)          [(None, 784)]             0         \n",
            "                                                                 \n",
            " emb_0 (Dense)               (None, 1024)              803840    \n",
            "                                                                 \n",
            " emb_1 (Dense)               (None, 512)               524800    \n",
            "                                                                 \n",
            " emb_2 (Dense)               (None, 256)               131328    \n",
            "                                                                 \n",
            " emb_3 (Dense)               (None, 128)               32896     \n",
            "                                                                 \n",
            " emb_4 (Dense)               (None, 64)                8256      \n",
            "                                                                 \n",
            " emb_5 (Dense)               (None, 16)                1040      \n",
            "                                                                 \n",
            " latent_vector (Dense)       (None, 2)                 34        \n",
            "                                                                 \n",
            "=================================================================\n",
            "Total params: 1,502,194\n",
            "Trainable params: 1,502,194\n",
            "Non-trainable params: 0\n",
            "_________________________________________________________________\n"
          ]
        }
      ],
      "source": [
        "encoder = tf.keras.models.Model(input_img, latent_vector)\n",
        "encoder.summary()"
      ]
    },
    {
      "cell_type": "code",
      "execution_count": null,
      "id": "e35741a5",
      "metadata": {
        "colab": {
          "base_uri": "https://localhost:8080/"
        },
        "id": "e35741a5",
        "outputId": "6fd4830d-3b89-4215-911a-1c1141dc9218"
      },
      "outputs": [
        {
          "output_type": "stream",
          "name": "stdout",
          "text": [
            "Epoch 1/10\n",
            "138/138 [==============================] - 15s 101ms/step - loss: 27436.8789 - val_loss: 27868.1230\n",
            "Epoch 2/10\n",
            "138/138 [==============================] - 14s 99ms/step - loss: 27434.5078 - val_loss: 27868.1230\n",
            "Epoch 3/10\n",
            "138/138 [==============================] - 13s 93ms/step - loss: 27434.5059 - val_loss: 27868.1230\n",
            "Epoch 4/10\n",
            "138/138 [==============================] - 13s 92ms/step - loss: 27434.5098 - val_loss: 27868.1230\n",
            "Epoch 5/10\n",
            "138/138 [==============================] - 14s 101ms/step - loss: 27434.5098 - val_loss: 27868.1230\n",
            "Epoch 6/10\n",
            "138/138 [==============================] - 13s 92ms/step - loss: 27434.5117 - val_loss: 27868.1230\n",
            "Epoch 7/10\n",
            "138/138 [==============================] - 13s 93ms/step - loss: 27434.5059 - val_loss: 27868.1230\n",
            "Epoch 8/10\n",
            "138/138 [==============================] - 13s 94ms/step - loss: 27434.5098 - val_loss: 27868.1230\n",
            "Epoch 9/10\n",
            "138/138 [==============================] - 13s 98ms/step - loss: 27434.5078 - val_loss: 27868.1230\n",
            "Epoch 10/10\n",
            "138/138 [==============================] - 13s 97ms/step - loss: 27434.5000 - val_loss: 27868.1230\n"
          ]
        }
      ],
      "source": [
        "autoencoder.compile(optimizer='adam', loss='mse')\n",
        "auto_history = autoencoder.fit(picture_X_train, picture_X_train, epochs=10, batch_size=200,validation_data=(picture_X_test, picture_X_test))\n"
      ]
    },
    {
      "cell_type": "code",
      "execution_count": null,
      "id": "38e101fa",
      "metadata": {
        "id": "38e101fa"
      },
      "outputs": [],
      "source": [
        "decoded_images = autoencoder.predict(picture_X_test)"
      ]
    },
    {
      "cell_type": "code",
      "execution_count": null,
      "id": "57bb0bc6",
      "metadata": {
        "scrolled": false,
        "colab": {
          "base_uri": "https://localhost:8080/",
          "height": 238
        },
        "id": "57bb0bc6",
        "outputId": "889a478f-bb87-4c3f-c19c-f1ae3db79693"
      },
      "outputs": [
        {
          "output_type": "display_data",
          "data": {
            "text/plain": [
              "<Figure size 1368x360 with 20 Axes>"
            ],
            "image/png": "[encoded data removed]"
          },
          "metadata": {}
        }
      ],
      "source": [
        "numberof_pictures = 10 \n",
        "plt.figure(figsize=(19, 5))\n",
        "for i in range(numberof_pictures):\n",
        "    ax = plt.subplot(2, numberof_pictures, i + 1)\n",
        "    plt.imshow(picture_X_test[i].reshape(28, 28),cmap='rocket')\n",
        "    ax.get_xaxis().set_visible(False)\n",
        "    ax.get_yaxis().set_visible(False)\n",
        "    ax = plt.subplot(2, numberof_pictures, i + 1 + numberof_pictures)\n",
        "    plt.imshow(picture_X_test[i].reshape(28, 28),cmap='binary')\n",
        "    ax.get_xaxis().set_visible(False)\n",
        "    ax.get_yaxis().set_visible(False)\n",
        "plt.show()"
      ]
    },
    {
      "cell_type": "code",
      "execution_count": null,
      "id": "511511ff",
      "metadata": {
        "id": "511511ff"
      },
      "outputs": [],
      "source": []
    }
  ],
  "metadata": {
    "kernelspec": {
      "display_name": "Python 3 (ipykernel)",
      "language": "python",
      "name": "python3"
    },
    "language_info": {
      "codemirror_mode": {
        "name": "ipython",
        "version": 3
      },
      "file_extension": ".py",
      "mimetype": "text/x-python",
      "name": "python",
      "nbconvert_exporter": "python",
      "pygments_lexer": "ipython3",
      "version": "3.9.7"
    },
    "colab": {
      "provenance": []
    }
  },
  "nbformat": 4,
  "nbformat_minor": 5
}